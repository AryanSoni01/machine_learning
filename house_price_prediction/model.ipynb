{
 "cells": [
  {
   "cell_type": "code",
   "execution_count": 1,
   "id": "22a615c2",
   "metadata": {},
   "outputs": [],
   "source": [
    "import pandas as pd\n",
    "import numpy as np"
   ]
  },
  {
   "cell_type": "code",
   "execution_count": 2,
   "id": "d853a699",
   "metadata": {},
   "outputs": [],
   "source": [
    "df = pd.read_csv('kc_house_data.csv')"
   ]
  },
  {
   "cell_type": "code",
   "execution_count": 3,
   "id": "a3b2fd42",
   "metadata": {},
   "outputs": [
    {
     "data": {
      "text/html": [
       "<div>\n",
       "<style scoped>\n",
       "    .dataframe tbody tr th:only-of-type {\n",
       "        vertical-align: middle;\n",
       "    }\n",
       "\n",
       "    .dataframe tbody tr th {\n",
       "        vertical-align: top;\n",
       "    }\n",
       "\n",
       "    .dataframe thead th {\n",
       "        text-align: right;\n",
       "    }\n",
       "</style>\n",
       "<table border=\"1\" class=\"dataframe\">\n",
       "  <thead>\n",
       "    <tr style=\"text-align: right;\">\n",
       "      <th></th>\n",
       "      <th>id</th>\n",
       "      <th>date</th>\n",
       "      <th>price</th>\n",
       "      <th>bedrooms</th>\n",
       "      <th>bathrooms</th>\n",
       "      <th>sqft_living</th>\n",
       "      <th>sqft_lot</th>\n",
       "      <th>floors</th>\n",
       "      <th>waterfront</th>\n",
       "      <th>view</th>\n",
       "      <th>...</th>\n",
       "      <th>grade</th>\n",
       "      <th>sqft_above</th>\n",
       "      <th>sqft_basement</th>\n",
       "      <th>yr_built</th>\n",
       "      <th>yr_renovated</th>\n",
       "      <th>zipcode</th>\n",
       "      <th>lat</th>\n",
       "      <th>long</th>\n",
       "      <th>sqft_living15</th>\n",
       "      <th>sqft_lot15</th>\n",
       "    </tr>\n",
       "  </thead>\n",
       "  <tbody>\n",
       "    <tr>\n",
       "      <th>0</th>\n",
       "      <td>7129300520</td>\n",
       "      <td>20141013T000000</td>\n",
       "      <td>221900.0</td>\n",
       "      <td>3</td>\n",
       "      <td>1.00</td>\n",
       "      <td>1180</td>\n",
       "      <td>5650</td>\n",
       "      <td>1.0</td>\n",
       "      <td>0</td>\n",
       "      <td>0</td>\n",
       "      <td>...</td>\n",
       "      <td>7</td>\n",
       "      <td>1180</td>\n",
       "      <td>0</td>\n",
       "      <td>1955</td>\n",
       "      <td>0</td>\n",
       "      <td>98178</td>\n",
       "      <td>47.5112</td>\n",
       "      <td>-122.257</td>\n",
       "      <td>1340</td>\n",
       "      <td>5650</td>\n",
       "    </tr>\n",
       "    <tr>\n",
       "      <th>1</th>\n",
       "      <td>6414100192</td>\n",
       "      <td>20141209T000000</td>\n",
       "      <td>538000.0</td>\n",
       "      <td>3</td>\n",
       "      <td>2.25</td>\n",
       "      <td>2570</td>\n",
       "      <td>7242</td>\n",
       "      <td>2.0</td>\n",
       "      <td>0</td>\n",
       "      <td>0</td>\n",
       "      <td>...</td>\n",
       "      <td>7</td>\n",
       "      <td>2170</td>\n",
       "      <td>400</td>\n",
       "      <td>1951</td>\n",
       "      <td>1991</td>\n",
       "      <td>98125</td>\n",
       "      <td>47.7210</td>\n",
       "      <td>-122.319</td>\n",
       "      <td>1690</td>\n",
       "      <td>7639</td>\n",
       "    </tr>\n",
       "    <tr>\n",
       "      <th>2</th>\n",
       "      <td>5631500400</td>\n",
       "      <td>20150225T000000</td>\n",
       "      <td>180000.0</td>\n",
       "      <td>2</td>\n",
       "      <td>1.00</td>\n",
       "      <td>770</td>\n",
       "      <td>10000</td>\n",
       "      <td>1.0</td>\n",
       "      <td>0</td>\n",
       "      <td>0</td>\n",
       "      <td>...</td>\n",
       "      <td>6</td>\n",
       "      <td>770</td>\n",
       "      <td>0</td>\n",
       "      <td>1933</td>\n",
       "      <td>0</td>\n",
       "      <td>98028</td>\n",
       "      <td>47.7379</td>\n",
       "      <td>-122.233</td>\n",
       "      <td>2720</td>\n",
       "      <td>8062</td>\n",
       "    </tr>\n",
       "    <tr>\n",
       "      <th>3</th>\n",
       "      <td>2487200875</td>\n",
       "      <td>20141209T000000</td>\n",
       "      <td>604000.0</td>\n",
       "      <td>4</td>\n",
       "      <td>3.00</td>\n",
       "      <td>1960</td>\n",
       "      <td>5000</td>\n",
       "      <td>1.0</td>\n",
       "      <td>0</td>\n",
       "      <td>0</td>\n",
       "      <td>...</td>\n",
       "      <td>7</td>\n",
       "      <td>1050</td>\n",
       "      <td>910</td>\n",
       "      <td>1965</td>\n",
       "      <td>0</td>\n",
       "      <td>98136</td>\n",
       "      <td>47.5208</td>\n",
       "      <td>-122.393</td>\n",
       "      <td>1360</td>\n",
       "      <td>5000</td>\n",
       "    </tr>\n",
       "    <tr>\n",
       "      <th>4</th>\n",
       "      <td>1954400510</td>\n",
       "      <td>20150218T000000</td>\n",
       "      <td>510000.0</td>\n",
       "      <td>3</td>\n",
       "      <td>2.00</td>\n",
       "      <td>1680</td>\n",
       "      <td>8080</td>\n",
       "      <td>1.0</td>\n",
       "      <td>0</td>\n",
       "      <td>0</td>\n",
       "      <td>...</td>\n",
       "      <td>8</td>\n",
       "      <td>1680</td>\n",
       "      <td>0</td>\n",
       "      <td>1987</td>\n",
       "      <td>0</td>\n",
       "      <td>98074</td>\n",
       "      <td>47.6168</td>\n",
       "      <td>-122.045</td>\n",
       "      <td>1800</td>\n",
       "      <td>7503</td>\n",
       "    </tr>\n",
       "    <tr>\n",
       "      <th>...</th>\n",
       "      <td>...</td>\n",
       "      <td>...</td>\n",
       "      <td>...</td>\n",
       "      <td>...</td>\n",
       "      <td>...</td>\n",
       "      <td>...</td>\n",
       "      <td>...</td>\n",
       "      <td>...</td>\n",
       "      <td>...</td>\n",
       "      <td>...</td>\n",
       "      <td>...</td>\n",
       "      <td>...</td>\n",
       "      <td>...</td>\n",
       "      <td>...</td>\n",
       "      <td>...</td>\n",
       "      <td>...</td>\n",
       "      <td>...</td>\n",
       "      <td>...</td>\n",
       "      <td>...</td>\n",
       "      <td>...</td>\n",
       "      <td>...</td>\n",
       "    </tr>\n",
       "    <tr>\n",
       "      <th>21608</th>\n",
       "      <td>263000018</td>\n",
       "      <td>20140521T000000</td>\n",
       "      <td>360000.0</td>\n",
       "      <td>3</td>\n",
       "      <td>2.50</td>\n",
       "      <td>1530</td>\n",
       "      <td>1131</td>\n",
       "      <td>3.0</td>\n",
       "      <td>0</td>\n",
       "      <td>0</td>\n",
       "      <td>...</td>\n",
       "      <td>8</td>\n",
       "      <td>1530</td>\n",
       "      <td>0</td>\n",
       "      <td>2009</td>\n",
       "      <td>0</td>\n",
       "      <td>98103</td>\n",
       "      <td>47.6993</td>\n",
       "      <td>-122.346</td>\n",
       "      <td>1530</td>\n",
       "      <td>1509</td>\n",
       "    </tr>\n",
       "    <tr>\n",
       "      <th>21609</th>\n",
       "      <td>6600060120</td>\n",
       "      <td>20150223T000000</td>\n",
       "      <td>400000.0</td>\n",
       "      <td>4</td>\n",
       "      <td>2.50</td>\n",
       "      <td>2310</td>\n",
       "      <td>5813</td>\n",
       "      <td>2.0</td>\n",
       "      <td>0</td>\n",
       "      <td>0</td>\n",
       "      <td>...</td>\n",
       "      <td>8</td>\n",
       "      <td>2310</td>\n",
       "      <td>0</td>\n",
       "      <td>2014</td>\n",
       "      <td>0</td>\n",
       "      <td>98146</td>\n",
       "      <td>47.5107</td>\n",
       "      <td>-122.362</td>\n",
       "      <td>1830</td>\n",
       "      <td>7200</td>\n",
       "    </tr>\n",
       "    <tr>\n",
       "      <th>21610</th>\n",
       "      <td>1523300141</td>\n",
       "      <td>20140623T000000</td>\n",
       "      <td>402101.0</td>\n",
       "      <td>2</td>\n",
       "      <td>0.75</td>\n",
       "      <td>1020</td>\n",
       "      <td>1350</td>\n",
       "      <td>2.0</td>\n",
       "      <td>0</td>\n",
       "      <td>0</td>\n",
       "      <td>...</td>\n",
       "      <td>7</td>\n",
       "      <td>1020</td>\n",
       "      <td>0</td>\n",
       "      <td>2009</td>\n",
       "      <td>0</td>\n",
       "      <td>98144</td>\n",
       "      <td>47.5944</td>\n",
       "      <td>-122.299</td>\n",
       "      <td>1020</td>\n",
       "      <td>2007</td>\n",
       "    </tr>\n",
       "    <tr>\n",
       "      <th>21611</th>\n",
       "      <td>291310100</td>\n",
       "      <td>20150116T000000</td>\n",
       "      <td>400000.0</td>\n",
       "      <td>3</td>\n",
       "      <td>2.50</td>\n",
       "      <td>1600</td>\n",
       "      <td>2388</td>\n",
       "      <td>2.0</td>\n",
       "      <td>0</td>\n",
       "      <td>0</td>\n",
       "      <td>...</td>\n",
       "      <td>8</td>\n",
       "      <td>1600</td>\n",
       "      <td>0</td>\n",
       "      <td>2004</td>\n",
       "      <td>0</td>\n",
       "      <td>98027</td>\n",
       "      <td>47.5345</td>\n",
       "      <td>-122.069</td>\n",
       "      <td>1410</td>\n",
       "      <td>1287</td>\n",
       "    </tr>\n",
       "    <tr>\n",
       "      <th>21612</th>\n",
       "      <td>1523300157</td>\n",
       "      <td>20141015T000000</td>\n",
       "      <td>325000.0</td>\n",
       "      <td>2</td>\n",
       "      <td>0.75</td>\n",
       "      <td>1020</td>\n",
       "      <td>1076</td>\n",
       "      <td>2.0</td>\n",
       "      <td>0</td>\n",
       "      <td>0</td>\n",
       "      <td>...</td>\n",
       "      <td>7</td>\n",
       "      <td>1020</td>\n",
       "      <td>0</td>\n",
       "      <td>2008</td>\n",
       "      <td>0</td>\n",
       "      <td>98144</td>\n",
       "      <td>47.5941</td>\n",
       "      <td>-122.299</td>\n",
       "      <td>1020</td>\n",
       "      <td>1357</td>\n",
       "    </tr>\n",
       "  </tbody>\n",
       "</table>\n",
       "<p>21613 rows × 21 columns</p>\n",
       "</div>"
      ],
      "text/plain": [
       "               id             date     price  bedrooms  bathrooms  \\\n",
       "0      7129300520  20141013T000000  221900.0         3       1.00   \n",
       "1      6414100192  20141209T000000  538000.0         3       2.25   \n",
       "2      5631500400  20150225T000000  180000.0         2       1.00   \n",
       "3      2487200875  20141209T000000  604000.0         4       3.00   \n",
       "4      1954400510  20150218T000000  510000.0         3       2.00   \n",
       "...           ...              ...       ...       ...        ...   \n",
       "21608   263000018  20140521T000000  360000.0         3       2.50   \n",
       "21609  6600060120  20150223T000000  400000.0         4       2.50   \n",
       "21610  1523300141  20140623T000000  402101.0         2       0.75   \n",
       "21611   291310100  20150116T000000  400000.0         3       2.50   \n",
       "21612  1523300157  20141015T000000  325000.0         2       0.75   \n",
       "\n",
       "       sqft_living  sqft_lot  floors  waterfront  view  ...  grade  \\\n",
       "0             1180      5650     1.0           0     0  ...      7   \n",
       "1             2570      7242     2.0           0     0  ...      7   \n",
       "2              770     10000     1.0           0     0  ...      6   \n",
       "3             1960      5000     1.0           0     0  ...      7   \n",
       "4             1680      8080     1.0           0     0  ...      8   \n",
       "...            ...       ...     ...         ...   ...  ...    ...   \n",
       "21608         1530      1131     3.0           0     0  ...      8   \n",
       "21609         2310      5813     2.0           0     0  ...      8   \n",
       "21610         1020      1350     2.0           0     0  ...      7   \n",
       "21611         1600      2388     2.0           0     0  ...      8   \n",
       "21612         1020      1076     2.0           0     0  ...      7   \n",
       "\n",
       "       sqft_above  sqft_basement  yr_built  yr_renovated  zipcode      lat  \\\n",
       "0            1180              0      1955             0    98178  47.5112   \n",
       "1            2170            400      1951          1991    98125  47.7210   \n",
       "2             770              0      1933             0    98028  47.7379   \n",
       "3            1050            910      1965             0    98136  47.5208   \n",
       "4            1680              0      1987             0    98074  47.6168   \n",
       "...           ...            ...       ...           ...      ...      ...   \n",
       "21608        1530              0      2009             0    98103  47.6993   \n",
       "21609        2310              0      2014             0    98146  47.5107   \n",
       "21610        1020              0      2009             0    98144  47.5944   \n",
       "21611        1600              0      2004             0    98027  47.5345   \n",
       "21612        1020              0      2008             0    98144  47.5941   \n",
       "\n",
       "          long  sqft_living15  sqft_lot15  \n",
       "0     -122.257           1340        5650  \n",
       "1     -122.319           1690        7639  \n",
       "2     -122.233           2720        8062  \n",
       "3     -122.393           1360        5000  \n",
       "4     -122.045           1800        7503  \n",
       "...        ...            ...         ...  \n",
       "21608 -122.346           1530        1509  \n",
       "21609 -122.362           1830        7200  \n",
       "21610 -122.299           1020        2007  \n",
       "21611 -122.069           1410        1287  \n",
       "21612 -122.299           1020        1357  \n",
       "\n",
       "[21613 rows x 21 columns]"
      ]
     },
     "execution_count": 3,
     "metadata": {},
     "output_type": "execute_result"
    }
   ],
   "source": [
    "df"
   ]
  },
  {
   "cell_type": "code",
   "execution_count": 4,
   "id": "f840380b",
   "metadata": {},
   "outputs": [
    {
     "data": {
      "text/plain": [
       "(21613, 21)"
      ]
     },
     "execution_count": 4,
     "metadata": {},
     "output_type": "execute_result"
    }
   ],
   "source": [
    "df.shape"
   ]
  },
  {
   "cell_type": "code",
   "execution_count": 5,
   "id": "9d032f14",
   "metadata": {},
   "outputs": [
    {
     "data": {
      "text/html": [
       "<div>\n",
       "<style scoped>\n",
       "    .dataframe tbody tr th:only-of-type {\n",
       "        vertical-align: middle;\n",
       "    }\n",
       "\n",
       "    .dataframe tbody tr th {\n",
       "        vertical-align: top;\n",
       "    }\n",
       "\n",
       "    .dataframe thead th {\n",
       "        text-align: right;\n",
       "    }\n",
       "</style>\n",
       "<table border=\"1\" class=\"dataframe\">\n",
       "  <thead>\n",
       "    <tr style=\"text-align: right;\">\n",
       "      <th></th>\n",
       "      <th>id</th>\n",
       "      <th>price</th>\n",
       "      <th>bedrooms</th>\n",
       "      <th>bathrooms</th>\n",
       "      <th>sqft_living</th>\n",
       "      <th>sqft_lot</th>\n",
       "      <th>floors</th>\n",
       "      <th>waterfront</th>\n",
       "      <th>view</th>\n",
       "      <th>condition</th>\n",
       "      <th>grade</th>\n",
       "      <th>sqft_above</th>\n",
       "      <th>sqft_basement</th>\n",
       "      <th>yr_built</th>\n",
       "      <th>yr_renovated</th>\n",
       "      <th>zipcode</th>\n",
       "      <th>lat</th>\n",
       "      <th>long</th>\n",
       "      <th>sqft_living15</th>\n",
       "      <th>sqft_lot15</th>\n",
       "    </tr>\n",
       "  </thead>\n",
       "  <tbody>\n",
       "    <tr>\n",
       "      <th>count</th>\n",
       "      <td>2.161300e+04</td>\n",
       "      <td>2.161300e+04</td>\n",
       "      <td>21613.000000</td>\n",
       "      <td>21613.000000</td>\n",
       "      <td>21613.000000</td>\n",
       "      <td>2.161300e+04</td>\n",
       "      <td>21613.000000</td>\n",
       "      <td>21613.000000</td>\n",
       "      <td>21613.000000</td>\n",
       "      <td>21613.000000</td>\n",
       "      <td>21613.000000</td>\n",
       "      <td>21613.000000</td>\n",
       "      <td>21613.000000</td>\n",
       "      <td>21613.000000</td>\n",
       "      <td>21613.000000</td>\n",
       "      <td>21613.000000</td>\n",
       "      <td>21613.000000</td>\n",
       "      <td>21613.000000</td>\n",
       "      <td>21613.000000</td>\n",
       "      <td>21613.000000</td>\n",
       "    </tr>\n",
       "    <tr>\n",
       "      <th>mean</th>\n",
       "      <td>4.580302e+09</td>\n",
       "      <td>5.400881e+05</td>\n",
       "      <td>3.370842</td>\n",
       "      <td>2.114757</td>\n",
       "      <td>2079.899736</td>\n",
       "      <td>1.510697e+04</td>\n",
       "      <td>1.494309</td>\n",
       "      <td>0.007542</td>\n",
       "      <td>0.234303</td>\n",
       "      <td>3.409430</td>\n",
       "      <td>7.656873</td>\n",
       "      <td>1788.390691</td>\n",
       "      <td>291.509045</td>\n",
       "      <td>1971.005136</td>\n",
       "      <td>84.402258</td>\n",
       "      <td>98077.939805</td>\n",
       "      <td>47.560053</td>\n",
       "      <td>-122.213896</td>\n",
       "      <td>1986.552492</td>\n",
       "      <td>12768.455652</td>\n",
       "    </tr>\n",
       "    <tr>\n",
       "      <th>std</th>\n",
       "      <td>2.876566e+09</td>\n",
       "      <td>3.671272e+05</td>\n",
       "      <td>0.930062</td>\n",
       "      <td>0.770163</td>\n",
       "      <td>918.440897</td>\n",
       "      <td>4.142051e+04</td>\n",
       "      <td>0.539989</td>\n",
       "      <td>0.086517</td>\n",
       "      <td>0.766318</td>\n",
       "      <td>0.650743</td>\n",
       "      <td>1.175459</td>\n",
       "      <td>828.090978</td>\n",
       "      <td>442.575043</td>\n",
       "      <td>29.373411</td>\n",
       "      <td>401.679240</td>\n",
       "      <td>53.505026</td>\n",
       "      <td>0.138564</td>\n",
       "      <td>0.140828</td>\n",
       "      <td>685.391304</td>\n",
       "      <td>27304.179631</td>\n",
       "    </tr>\n",
       "    <tr>\n",
       "      <th>min</th>\n",
       "      <td>1.000102e+06</td>\n",
       "      <td>7.500000e+04</td>\n",
       "      <td>0.000000</td>\n",
       "      <td>0.000000</td>\n",
       "      <td>290.000000</td>\n",
       "      <td>5.200000e+02</td>\n",
       "      <td>1.000000</td>\n",
       "      <td>0.000000</td>\n",
       "      <td>0.000000</td>\n",
       "      <td>1.000000</td>\n",
       "      <td>1.000000</td>\n",
       "      <td>290.000000</td>\n",
       "      <td>0.000000</td>\n",
       "      <td>1900.000000</td>\n",
       "      <td>0.000000</td>\n",
       "      <td>98001.000000</td>\n",
       "      <td>47.155900</td>\n",
       "      <td>-122.519000</td>\n",
       "      <td>399.000000</td>\n",
       "      <td>651.000000</td>\n",
       "    </tr>\n",
       "    <tr>\n",
       "      <th>25%</th>\n",
       "      <td>2.123049e+09</td>\n",
       "      <td>3.219500e+05</td>\n",
       "      <td>3.000000</td>\n",
       "      <td>1.750000</td>\n",
       "      <td>1427.000000</td>\n",
       "      <td>5.040000e+03</td>\n",
       "      <td>1.000000</td>\n",
       "      <td>0.000000</td>\n",
       "      <td>0.000000</td>\n",
       "      <td>3.000000</td>\n",
       "      <td>7.000000</td>\n",
       "      <td>1190.000000</td>\n",
       "      <td>0.000000</td>\n",
       "      <td>1951.000000</td>\n",
       "      <td>0.000000</td>\n",
       "      <td>98033.000000</td>\n",
       "      <td>47.471000</td>\n",
       "      <td>-122.328000</td>\n",
       "      <td>1490.000000</td>\n",
       "      <td>5100.000000</td>\n",
       "    </tr>\n",
       "    <tr>\n",
       "      <th>50%</th>\n",
       "      <td>3.904930e+09</td>\n",
       "      <td>4.500000e+05</td>\n",
       "      <td>3.000000</td>\n",
       "      <td>2.250000</td>\n",
       "      <td>1910.000000</td>\n",
       "      <td>7.618000e+03</td>\n",
       "      <td>1.500000</td>\n",
       "      <td>0.000000</td>\n",
       "      <td>0.000000</td>\n",
       "      <td>3.000000</td>\n",
       "      <td>7.000000</td>\n",
       "      <td>1560.000000</td>\n",
       "      <td>0.000000</td>\n",
       "      <td>1975.000000</td>\n",
       "      <td>0.000000</td>\n",
       "      <td>98065.000000</td>\n",
       "      <td>47.571800</td>\n",
       "      <td>-122.230000</td>\n",
       "      <td>1840.000000</td>\n",
       "      <td>7620.000000</td>\n",
       "    </tr>\n",
       "    <tr>\n",
       "      <th>75%</th>\n",
       "      <td>7.308900e+09</td>\n",
       "      <td>6.450000e+05</td>\n",
       "      <td>4.000000</td>\n",
       "      <td>2.500000</td>\n",
       "      <td>2550.000000</td>\n",
       "      <td>1.068800e+04</td>\n",
       "      <td>2.000000</td>\n",
       "      <td>0.000000</td>\n",
       "      <td>0.000000</td>\n",
       "      <td>4.000000</td>\n",
       "      <td>8.000000</td>\n",
       "      <td>2210.000000</td>\n",
       "      <td>560.000000</td>\n",
       "      <td>1997.000000</td>\n",
       "      <td>0.000000</td>\n",
       "      <td>98118.000000</td>\n",
       "      <td>47.678000</td>\n",
       "      <td>-122.125000</td>\n",
       "      <td>2360.000000</td>\n",
       "      <td>10083.000000</td>\n",
       "    </tr>\n",
       "    <tr>\n",
       "      <th>max</th>\n",
       "      <td>9.900000e+09</td>\n",
       "      <td>7.700000e+06</td>\n",
       "      <td>33.000000</td>\n",
       "      <td>8.000000</td>\n",
       "      <td>13540.000000</td>\n",
       "      <td>1.651359e+06</td>\n",
       "      <td>3.500000</td>\n",
       "      <td>1.000000</td>\n",
       "      <td>4.000000</td>\n",
       "      <td>5.000000</td>\n",
       "      <td>13.000000</td>\n",
       "      <td>9410.000000</td>\n",
       "      <td>4820.000000</td>\n",
       "      <td>2015.000000</td>\n",
       "      <td>2015.000000</td>\n",
       "      <td>98199.000000</td>\n",
       "      <td>47.777600</td>\n",
       "      <td>-121.315000</td>\n",
       "      <td>6210.000000</td>\n",
       "      <td>871200.000000</td>\n",
       "    </tr>\n",
       "  </tbody>\n",
       "</table>\n",
       "</div>"
      ],
      "text/plain": [
       "                 id         price      bedrooms     bathrooms   sqft_living  \\\n",
       "count  2.161300e+04  2.161300e+04  21613.000000  21613.000000  21613.000000   \n",
       "mean   4.580302e+09  5.400881e+05      3.370842      2.114757   2079.899736   \n",
       "std    2.876566e+09  3.671272e+05      0.930062      0.770163    918.440897   \n",
       "min    1.000102e+06  7.500000e+04      0.000000      0.000000    290.000000   \n",
       "25%    2.123049e+09  3.219500e+05      3.000000      1.750000   1427.000000   \n",
       "50%    3.904930e+09  4.500000e+05      3.000000      2.250000   1910.000000   \n",
       "75%    7.308900e+09  6.450000e+05      4.000000      2.500000   2550.000000   \n",
       "max    9.900000e+09  7.700000e+06     33.000000      8.000000  13540.000000   \n",
       "\n",
       "           sqft_lot        floors    waterfront          view     condition  \\\n",
       "count  2.161300e+04  21613.000000  21613.000000  21613.000000  21613.000000   \n",
       "mean   1.510697e+04      1.494309      0.007542      0.234303      3.409430   \n",
       "std    4.142051e+04      0.539989      0.086517      0.766318      0.650743   \n",
       "min    5.200000e+02      1.000000      0.000000      0.000000      1.000000   \n",
       "25%    5.040000e+03      1.000000      0.000000      0.000000      3.000000   \n",
       "50%    7.618000e+03      1.500000      0.000000      0.000000      3.000000   \n",
       "75%    1.068800e+04      2.000000      0.000000      0.000000      4.000000   \n",
       "max    1.651359e+06      3.500000      1.000000      4.000000      5.000000   \n",
       "\n",
       "              grade    sqft_above  sqft_basement      yr_built  yr_renovated  \\\n",
       "count  21613.000000  21613.000000   21613.000000  21613.000000  21613.000000   \n",
       "mean       7.656873   1788.390691     291.509045   1971.005136     84.402258   \n",
       "std        1.175459    828.090978     442.575043     29.373411    401.679240   \n",
       "min        1.000000    290.000000       0.000000   1900.000000      0.000000   \n",
       "25%        7.000000   1190.000000       0.000000   1951.000000      0.000000   \n",
       "50%        7.000000   1560.000000       0.000000   1975.000000      0.000000   \n",
       "75%        8.000000   2210.000000     560.000000   1997.000000      0.000000   \n",
       "max       13.000000   9410.000000    4820.000000   2015.000000   2015.000000   \n",
       "\n",
       "            zipcode           lat          long  sqft_living15     sqft_lot15  \n",
       "count  21613.000000  21613.000000  21613.000000   21613.000000   21613.000000  \n",
       "mean   98077.939805     47.560053   -122.213896    1986.552492   12768.455652  \n",
       "std       53.505026      0.138564      0.140828     685.391304   27304.179631  \n",
       "min    98001.000000     47.155900   -122.519000     399.000000     651.000000  \n",
       "25%    98033.000000     47.471000   -122.328000    1490.000000    5100.000000  \n",
       "50%    98065.000000     47.571800   -122.230000    1840.000000    7620.000000  \n",
       "75%    98118.000000     47.678000   -122.125000    2360.000000   10083.000000  \n",
       "max    98199.000000     47.777600   -121.315000    6210.000000  871200.000000  "
      ]
     },
     "execution_count": 5,
     "metadata": {},
     "output_type": "execute_result"
    }
   ],
   "source": [
    "df.describe()"
   ]
  },
  {
   "cell_type": "code",
   "execution_count": 6,
   "id": "cc9579c2",
   "metadata": {},
   "outputs": [
    {
     "data": {
      "text/plain": [
       "False"
      ]
     },
     "execution_count": 6,
     "metadata": {},
     "output_type": "execute_result"
    }
   ],
   "source": [
    "df.isnull().values.any()"
   ]
  },
  {
   "cell_type": "code",
   "execution_count": 7,
   "id": "17580161",
   "metadata": {},
   "outputs": [],
   "source": [
    "import seaborn as sb\n",
    "import matplotlib.pyplot as plt"
   ]
  },
  {
   "cell_type": "code",
   "execution_count": 8,
   "id": "e48a1a16",
   "metadata": {},
   "outputs": [
    {
     "data": {
      "text/plain": [
       "(Index(['id', 'date', 'price', 'bedrooms', 'bathrooms', 'sqft_living',\n",
       "        'sqft_lot', 'floors', 'waterfront', 'view', 'condition', 'grade',\n",
       "        'sqft_above', 'sqft_basement', 'yr_built', 'yr_renovated', 'zipcode',\n",
       "        'lat', 'long', 'sqft_living15', 'sqft_lot15'],\n",
       "       dtype='object'),\n",
       " 21)"
      ]
     },
     "execution_count": 8,
     "metadata": {},
     "output_type": "execute_result"
    }
   ],
   "source": [
    "df.columns, len(df.columns)"
   ]
  },
  {
   "cell_type": "code",
   "execution_count": 10,
   "id": "d6b77f7f",
   "metadata": {
    "scrolled": true
   },
   "outputs": [
    {
     "data": {
      "image/png": "[encoded data removed]",
      "text/plain": [
       "<Figure size 432x288 with 1 Axes>"
      ]
     },
     "metadata": {
      "needs_background": "light"
     },
     "output_type": "display_data"
    },
    {
     "data": {
      "image/png": "[encoded data removed]",
      "text/plain": [
       "<Figure size 432x288 with 1 Axes>"
      ]
     },
     "metadata": {
      "needs_background": "light"
     },
     "output_type": "display_data"
    },
    {
     "data": {
      "image/png": "[encoded data removed]",
      "text/plain": [
       "<Figure size 432x288 with 1 Axes>"
      ]
     },
     "metadata": {
      "needs_background": "light"
     },
     "output_type": "display_data"
    },
    {
     "data": {
      "image/png": "[encoded data removed]",
      "text/plain": [
       "<Figure size 432x288 with 1 Axes>"
      ]
     },
     "metadata": {
      "needs_background": "light"
     },
     "output_type": "display_data"
    },
    {
     "data": {
      "image/png": "[encoded data removed]",
      "text/plain": [
       "<Figure size 432x288 with 1 Axes>"
      ]
     },
     "metadata": {
      "needs_background": "light"
     },
     "output_type": "display_data"
    },
    {
     "data": {
      "image/png": "[encoded data removed]",
      "text/plain": [
       "<Figure size 432x288 with 1 Axes>"
      ]
     },
     "metadata": {
      "needs_background": "light"
     },
     "output_type": "display_data"
    },
    {
     "data": {
      "image/png": "[encoded data removed]",
      "text/plain": [
       "<Figure size 432x288 with 1 Axes>"
      ]
     },
     "metadata": {
      "needs_background": "light"
     },
     "output_type": "display_data"
    },
    {
     "data": {
      "image/png": "[encoded data removed]",
      "text/plain": [
       "<Figure size 432x288 with 1 Axes>"
      ]
     },
     "metadata": {
      "needs_background": "light"
     },
     "output_type": "display_data"
    },
    {
     "data": {
      "image/png": "[encoded data removed]",
      "text/plain": [
       "<Figure size 432x288 with 1 Axes>"
      ]
     },
     "metadata": {
      "needs_background": "light"
     },
     "output_type": "display_data"
    },
    {
     "data": {
      "image/png": "[encoded data removed]",
      "text/plain": [
       "<Figure size 432x288 with 1 Axes>"
      ]
     },
     "metadata": {
      "needs_background": "light"
     },
     "output_type": "display_data"
    },
    {
     "data": {
      "image/png": "[encoded data removed]",
      "text/plain": [
       "<Figure size 432x288 with 1 Axes>"
      ]
     },
     "metadata": {
      "needs_background": "light"
     },
     "output_type": "display_data"
    },
    {
     "data": {
      "image/png": "[encoded data removed]",
      "text/plain": [
       "<Figure size 432x288 with 1 Axes>"
      ]
     },
     "metadata": {
      "needs_background": "light"
     },
     "output_type": "display_data"
    },
    {
     "data": {
      "image/png": "[encoded data removed]",
      "text/plain": [
       "<Figure size 432x288 with 1 Axes>"
      ]
     },
     "metadata": {
      "needs_background": "light"
     },
     "output_type": "display_data"
    },
    {
     "data": {
      "image/png": "[encoded data removed]",
      "text/plain": [
       "<Figure size 432x288 with 1 Axes>"
      ]
     },
     "metadata": {
      "needs_background": "light"
     },
     "output_type": "display_data"
    },
    {
     "data": {
      "image/png": "[encoded data removed]",
      "text/plain": [
       "<Figure size 432x288 with 1 Axes>"
      ]
     },
     "metadata": {
      "needs_background": "light"
     },
     "output_type": "display_data"
    },
    {
     "data": {
      "image/png": "[encoded data removed]",
      "text/plain": [
       "<Figure size 432x288 with 1 Axes>"
      ]
     },
     "metadata": {
      "needs_background": "light"
     },
     "output_type": "display_data"
    },
    {
     "data": {
      "image/png": "[encoded data removed]",
      "text/plain": [
       "<Figure size 432x288 with 1 Axes>"
      ]
     },
     "metadata": {
      "needs_background": "light"
     },
     "output_type": "display_data"
    },
    {
     "data": {
      "image/png": "[encoded data removed]",
      "text/plain": [
       "<Figure size 432x288 with 1 Axes>"
      ]
     },
     "metadata": {
      "needs_background": "light"
     },
     "output_type": "display_data"
    }
   ],
   "source": [
    "for i in df.columns[3:21]:\n",
    "    plt.plot(df[i],df['price'], 'o')\n",
    "    plt.xlabel(i)\n",
    "    plt.ylabel('price')\n",
    "    plt.title('with outliers')\n",
    "    plt.show()"
   ]
  },
  {
   "cell_type": "code",
   "execution_count": 10,
   "id": "6cb0259f",
   "metadata": {},
   "outputs": [],
   "source": [
    "df1=df"
   ]
  },
  {
   "cell_type": "code",
   "execution_count": 11,
   "id": "949ec101",
   "metadata": {},
   "outputs": [
    {
     "data": {
      "text/html": [
       "<div>\n",
       "<style scoped>\n",
       "    .dataframe tbody tr th:only-of-type {\n",
       "        vertical-align: middle;\n",
       "    }\n",
       "\n",
       "    .dataframe tbody tr th {\n",
       "        vertical-align: top;\n",
       "    }\n",
       "\n",
       "    .dataframe thead th {\n",
       "        text-align: right;\n",
       "    }\n",
       "</style>\n",
       "<table border=\"1\" class=\"dataframe\">\n",
       "  <thead>\n",
       "    <tr style=\"text-align: right;\">\n",
       "      <th></th>\n",
       "      <th>id</th>\n",
       "      <th>date</th>\n",
       "      <th>price</th>\n",
       "      <th>bedrooms</th>\n",
       "      <th>bathrooms</th>\n",
       "      <th>sqft_living</th>\n",
       "      <th>sqft_lot</th>\n",
       "      <th>floors</th>\n",
       "      <th>waterfront</th>\n",
       "      <th>view</th>\n",
       "      <th>...</th>\n",
       "      <th>grade</th>\n",
       "      <th>sqft_above</th>\n",
       "      <th>sqft_basement</th>\n",
       "      <th>yr_built</th>\n",
       "      <th>yr_renovated</th>\n",
       "      <th>zipcode</th>\n",
       "      <th>lat</th>\n",
       "      <th>long</th>\n",
       "      <th>sqft_living15</th>\n",
       "      <th>sqft_lot15</th>\n",
       "    </tr>\n",
       "  </thead>\n",
       "  <tbody>\n",
       "    <tr>\n",
       "      <th>15870</th>\n",
       "      <td>2402100895</td>\n",
       "      <td>20140625T000000</td>\n",
       "      <td>640000.0</td>\n",
       "      <td>33</td>\n",
       "      <td>1.75</td>\n",
       "      <td>1620</td>\n",
       "      <td>6000</td>\n",
       "      <td>1.0</td>\n",
       "      <td>0</td>\n",
       "      <td>0</td>\n",
       "      <td>...</td>\n",
       "      <td>7</td>\n",
       "      <td>1040</td>\n",
       "      <td>580</td>\n",
       "      <td>1947</td>\n",
       "      <td>0</td>\n",
       "      <td>98103</td>\n",
       "      <td>47.6878</td>\n",
       "      <td>-122.331</td>\n",
       "      <td>1330</td>\n",
       "      <td>4700</td>\n",
       "    </tr>\n",
       "  </tbody>\n",
       "</table>\n",
       "<p>1 rows × 21 columns</p>\n",
       "</div>"
      ],
      "text/plain": [
       "               id             date     price  bedrooms  bathrooms  \\\n",
       "15870  2402100895  20140625T000000  640000.0        33       1.75   \n",
       "\n",
       "       sqft_living  sqft_lot  floors  waterfront  view  ...  grade  \\\n",
       "15870         1620      6000     1.0           0     0  ...      7   \n",
       "\n",
       "       sqft_above  sqft_basement  yr_built  yr_renovated  zipcode      lat  \\\n",
       "15870        1040            580      1947             0    98103  47.6878   \n",
       "\n",
       "          long  sqft_living15  sqft_lot15  \n",
       "15870 -122.331           1330        4700  \n",
       "\n",
       "[1 rows x 21 columns]"
      ]
     },
     "execution_count": 11,
     "metadata": {},
     "output_type": "execute_result"
    }
   ],
   "source": [
    "df1[df1['bedrooms']>20]"
   ]
  },
  {
   "cell_type": "code",
   "execution_count": 12,
   "id": "6992bd0c",
   "metadata": {},
   "outputs": [],
   "source": [
    "df1 = df1[df1['bedrooms']<20]"
   ]
  },
  {
   "cell_type": "code",
   "execution_count": 13,
   "id": "c07bf728",
   "metadata": {},
   "outputs": [
    {
     "data": {
      "text/plain": [
       "(21612, 21)"
      ]
     },
     "execution_count": 13,
     "metadata": {},
     "output_type": "execute_result"
    }
   ],
   "source": [
    "df1.shape"
   ]
  },
  {
   "cell_type": "code",
   "execution_count": 14,
   "id": "b0aea5db",
   "metadata": {},
   "outputs": [
    {
     "data": {
      "image/png": "[encoded data removed]",
      "text/plain": [
       "<Figure size 432x288 with 1 Axes>"
      ]
     },
     "metadata": {
      "needs_background": "light"
     },
     "output_type": "display_data"
    }
   ],
   "source": [
    "plt.plot(df1['bedrooms'],df1['price'], 'o')\n",
    "plt.xlabel('bedrooms')\n",
    "plt.ylabel('price')\n",
    "plt.title('without outliers')\n",
    "plt.show()"
   ]
  },
  {
   "cell_type": "code",
   "execution_count": 15,
   "id": "95df3cef",
   "metadata": {},
   "outputs": [
    {
     "data": {
      "text/html": [
       "<div>\n",
       "<style scoped>\n",
       "    .dataframe tbody tr th:only-of-type {\n",
       "        vertical-align: middle;\n",
       "    }\n",
       "\n",
       "    .dataframe tbody tr th {\n",
       "        vertical-align: top;\n",
       "    }\n",
       "\n",
       "    .dataframe thead th {\n",
       "        text-align: right;\n",
       "    }\n",
       "</style>\n",
       "<table border=\"1\" class=\"dataframe\">\n",
       "  <thead>\n",
       "    <tr style=\"text-align: right;\">\n",
       "      <th></th>\n",
       "      <th>id</th>\n",
       "      <th>price</th>\n",
       "      <th>bedrooms</th>\n",
       "      <th>bathrooms</th>\n",
       "      <th>sqft_living</th>\n",
       "      <th>sqft_lot</th>\n",
       "      <th>floors</th>\n",
       "      <th>waterfront</th>\n",
       "      <th>view</th>\n",
       "      <th>condition</th>\n",
       "      <th>grade</th>\n",
       "      <th>sqft_above</th>\n",
       "      <th>sqft_basement</th>\n",
       "      <th>yr_built</th>\n",
       "      <th>yr_renovated</th>\n",
       "      <th>zipcode</th>\n",
       "      <th>lat</th>\n",
       "      <th>long</th>\n",
       "      <th>sqft_living15</th>\n",
       "      <th>sqft_lot15</th>\n",
       "    </tr>\n",
       "  </thead>\n",
       "  <tbody>\n",
       "    <tr>\n",
       "      <th>id</th>\n",
       "      <td>1.000000</td>\n",
       "      <td>-0.016753</td>\n",
       "      <td>0.002461</td>\n",
       "      <td>0.005144</td>\n",
       "      <td>-0.012276</td>\n",
       "      <td>-0.132118</td>\n",
       "      <td>0.018494</td>\n",
       "      <td>-0.002724</td>\n",
       "      <td>0.011582</td>\n",
       "      <td>-0.023701</td>\n",
       "      <td>0.008111</td>\n",
       "      <td>-0.010874</td>\n",
       "      <td>-0.005128</td>\n",
       "      <td>0.021352</td>\n",
       "      <td>-0.016915</td>\n",
       "      <td>-0.008208</td>\n",
       "      <td>-0.001859</td>\n",
       "      <td>0.020770</td>\n",
       "      <td>-0.002935</td>\n",
       "      <td>-0.138810</td>\n",
       "    </tr>\n",
       "    <tr>\n",
       "      <th>price</th>\n",
       "      <td>-0.016753</td>\n",
       "      <td>1.000000</td>\n",
       "      <td>0.315445</td>\n",
       "      <td>0.525147</td>\n",
       "      <td>0.702047</td>\n",
       "      <td>0.089664</td>\n",
       "      <td>0.256811</td>\n",
       "      <td>0.266371</td>\n",
       "      <td>0.397299</td>\n",
       "      <td>0.036336</td>\n",
       "      <td>0.667447</td>\n",
       "      <td>0.605591</td>\n",
       "      <td>0.323812</td>\n",
       "      <td>0.054023</td>\n",
       "      <td>0.126437</td>\n",
       "      <td>-0.053209</td>\n",
       "      <td>0.306998</td>\n",
       "      <td>0.021637</td>\n",
       "      <td>0.585404</td>\n",
       "      <td>0.082451</td>\n",
       "    </tr>\n",
       "    <tr>\n",
       "      <th>bedrooms</th>\n",
       "      <td>0.002461</td>\n",
       "      <td>0.315445</td>\n",
       "      <td>1.000000</td>\n",
       "      <td>0.529159</td>\n",
       "      <td>0.591467</td>\n",
       "      <td>0.032807</td>\n",
       "      <td>0.181085</td>\n",
       "      <td>-0.006611</td>\n",
       "      <td>0.081930</td>\n",
       "      <td>0.025478</td>\n",
       "      <td>0.366502</td>\n",
       "      <td>0.490600</td>\n",
       "      <td>0.309490</td>\n",
       "      <td>0.159167</td>\n",
       "      <td>0.019617</td>\n",
       "      <td>-0.157093</td>\n",
       "      <td>-0.010541</td>\n",
       "      <td>0.133882</td>\n",
       "      <td>0.402626</td>\n",
       "      <td>0.030402</td>\n",
       "    </tr>\n",
       "    <tr>\n",
       "      <th>bathrooms</th>\n",
       "      <td>0.005144</td>\n",
       "      <td>0.525147</td>\n",
       "      <td>0.529159</td>\n",
       "      <td>1.000000</td>\n",
       "      <td>0.754663</td>\n",
       "      <td>0.087735</td>\n",
       "      <td>0.500645</td>\n",
       "      <td>0.063742</td>\n",
       "      <td>0.187732</td>\n",
       "      <td>-0.124946</td>\n",
       "      <td>0.664979</td>\n",
       "      <td>0.685339</td>\n",
       "      <td>0.283789</td>\n",
       "      <td>0.506012</td>\n",
       "      <td>0.050735</td>\n",
       "      <td>-0.203858</td>\n",
       "      <td>0.024594</td>\n",
       "      <td>0.223028</td>\n",
       "      <td>0.568628</td>\n",
       "      <td>0.087170</td>\n",
       "    </tr>\n",
       "    <tr>\n",
       "      <th>sqft_living</th>\n",
       "      <td>-0.012276</td>\n",
       "      <td>0.702047</td>\n",
       "      <td>0.591467</td>\n",
       "      <td>0.754663</td>\n",
       "      <td>1.000000</td>\n",
       "      <td>0.172822</td>\n",
       "      <td>0.353937</td>\n",
       "      <td>0.103816</td>\n",
       "      <td>0.284606</td>\n",
       "      <td>-0.058704</td>\n",
       "      <td>0.762701</td>\n",
       "      <td>0.876597</td>\n",
       "      <td>0.435065</td>\n",
       "      <td>0.318037</td>\n",
       "      <td>0.055358</td>\n",
       "      <td>-0.199421</td>\n",
       "      <td>0.052552</td>\n",
       "      <td>0.240209</td>\n",
       "      <td>0.756419</td>\n",
       "      <td>0.183280</td>\n",
       "    </tr>\n",
       "    <tr>\n",
       "      <th>sqft_lot</th>\n",
       "      <td>-0.132118</td>\n",
       "      <td>0.089664</td>\n",
       "      <td>0.032807</td>\n",
       "      <td>0.087735</td>\n",
       "      <td>0.172822</td>\n",
       "      <td>1.000000</td>\n",
       "      <td>-0.005210</td>\n",
       "      <td>0.021603</td>\n",
       "      <td>0.074707</td>\n",
       "      <td>-0.008935</td>\n",
       "      <td>0.113616</td>\n",
       "      <td>0.183507</td>\n",
       "      <td>0.015293</td>\n",
       "      <td>0.053073</td>\n",
       "      <td>0.007641</td>\n",
       "      <td>-0.129571</td>\n",
       "      <td>-0.085675</td>\n",
       "      <td>0.229516</td>\n",
       "      <td>0.144602</td>\n",
       "      <td>0.718556</td>\n",
       "    </tr>\n",
       "    <tr>\n",
       "      <th>floors</th>\n",
       "      <td>0.018494</td>\n",
       "      <td>0.256811</td>\n",
       "      <td>0.181085</td>\n",
       "      <td>0.500645</td>\n",
       "      <td>0.353937</td>\n",
       "      <td>-0.005210</td>\n",
       "      <td>1.000000</td>\n",
       "      <td>0.023695</td>\n",
       "      <td>0.029432</td>\n",
       "      <td>-0.263706</td>\n",
       "      <td>0.458171</td>\n",
       "      <td>0.523866</td>\n",
       "      <td>-0.245684</td>\n",
       "      <td>0.489302</td>\n",
       "      <td>0.006330</td>\n",
       "      <td>-0.059102</td>\n",
       "      <td>0.049655</td>\n",
       "      <td>0.125388</td>\n",
       "      <td>0.279856</td>\n",
       "      <td>-0.011282</td>\n",
       "    </tr>\n",
       "    <tr>\n",
       "      <th>waterfront</th>\n",
       "      <td>-0.002724</td>\n",
       "      <td>0.266371</td>\n",
       "      <td>-0.006611</td>\n",
       "      <td>0.063742</td>\n",
       "      <td>0.103816</td>\n",
       "      <td>0.021603</td>\n",
       "      <td>0.023695</td>\n",
       "      <td>1.000000</td>\n",
       "      <td>0.401857</td>\n",
       "      <td>0.016665</td>\n",
       "      <td>0.082773</td>\n",
       "      <td>0.072072</td>\n",
       "      <td>0.080591</td>\n",
       "      <td>-0.026165</td>\n",
       "      <td>0.092884</td>\n",
       "      <td>0.030287</td>\n",
       "      <td>-0.014270</td>\n",
       "      <td>-0.041914</td>\n",
       "      <td>0.086461</td>\n",
       "      <td>0.030702</td>\n",
       "    </tr>\n",
       "    <tr>\n",
       "      <th>view</th>\n",
       "      <td>0.011582</td>\n",
       "      <td>0.397299</td>\n",
       "      <td>0.081930</td>\n",
       "      <td>0.187732</td>\n",
       "      <td>0.284606</td>\n",
       "      <td>0.074707</td>\n",
       "      <td>0.029432</td>\n",
       "      <td>0.401857</td>\n",
       "      <td>1.000000</td>\n",
       "      <td>0.046031</td>\n",
       "      <td>0.251315</td>\n",
       "      <td>0.167640</td>\n",
       "      <td>0.276959</td>\n",
       "      <td>-0.053452</td>\n",
       "      <td>0.103915</td>\n",
       "      <td>0.084834</td>\n",
       "      <td>0.006170</td>\n",
       "      <td>-0.078413</td>\n",
       "      <td>0.280432</td>\n",
       "      <td>0.072571</td>\n",
       "    </tr>\n",
       "    <tr>\n",
       "      <th>condition</th>\n",
       "      <td>-0.023701</td>\n",
       "      <td>0.036336</td>\n",
       "      <td>0.025478</td>\n",
       "      <td>-0.124946</td>\n",
       "      <td>-0.058704</td>\n",
       "      <td>-0.008935</td>\n",
       "      <td>-0.263706</td>\n",
       "      <td>0.016665</td>\n",
       "      <td>0.046031</td>\n",
       "      <td>1.000000</td>\n",
       "      <td>-0.144632</td>\n",
       "      <td>-0.158136</td>\n",
       "      <td>0.174057</td>\n",
       "      <td>-0.361380</td>\n",
       "      <td>-0.060602</td>\n",
       "      <td>0.002973</td>\n",
       "      <td>-0.015048</td>\n",
       "      <td>-0.106423</td>\n",
       "      <td>-0.092731</td>\n",
       "      <td>-0.003373</td>\n",
       "    </tr>\n",
       "    <tr>\n",
       "      <th>grade</th>\n",
       "      <td>0.008111</td>\n",
       "      <td>0.667447</td>\n",
       "      <td>0.366502</td>\n",
       "      <td>0.664979</td>\n",
       "      <td>0.762701</td>\n",
       "      <td>0.113616</td>\n",
       "      <td>0.458171</td>\n",
       "      <td>0.082773</td>\n",
       "      <td>0.251315</td>\n",
       "      <td>-0.144632</td>\n",
       "      <td>1.000000</td>\n",
       "      <td>0.755919</td>\n",
       "      <td>0.168412</td>\n",
       "      <td>0.446952</td>\n",
       "      <td>0.014409</td>\n",
       "      <td>-0.184852</td>\n",
       "      <td>0.114111</td>\n",
       "      <td>0.198355</td>\n",
       "      <td>0.713198</td>\n",
       "      <td>0.119241</td>\n",
       "    </tr>\n",
       "    <tr>\n",
       "      <th>sqft_above</th>\n",
       "      <td>-0.010874</td>\n",
       "      <td>0.605591</td>\n",
       "      <td>0.490600</td>\n",
       "      <td>0.685339</td>\n",
       "      <td>0.876597</td>\n",
       "      <td>0.183507</td>\n",
       "      <td>0.523866</td>\n",
       "      <td>0.072072</td>\n",
       "      <td>0.167640</td>\n",
       "      <td>-0.158136</td>\n",
       "      <td>0.755919</td>\n",
       "      <td>1.000000</td>\n",
       "      <td>-0.051918</td>\n",
       "      <td>0.423879</td>\n",
       "      <td>0.023276</td>\n",
       "      <td>-0.261177</td>\n",
       "      <td>-0.000778</td>\n",
       "      <td>0.343780</td>\n",
       "      <td>0.731860</td>\n",
       "      <td>0.194042</td>\n",
       "    </tr>\n",
       "    <tr>\n",
       "      <th>sqft_basement</th>\n",
       "      <td>-0.005128</td>\n",
       "      <td>0.323812</td>\n",
       "      <td>0.309490</td>\n",
       "      <td>0.283789</td>\n",
       "      <td>0.435065</td>\n",
       "      <td>0.015293</td>\n",
       "      <td>-0.245684</td>\n",
       "      <td>0.080591</td>\n",
       "      <td>0.276959</td>\n",
       "      <td>0.174057</td>\n",
       "      <td>0.168412</td>\n",
       "      <td>-0.051918</td>\n",
       "      <td>1.000000</td>\n",
       "      <td>-0.133103</td>\n",
       "      <td>0.071330</td>\n",
       "      <td>0.074832</td>\n",
       "      <td>0.110513</td>\n",
       "      <td>-0.144743</td>\n",
       "      <td>0.200390</td>\n",
       "      <td>0.017285</td>\n",
       "    </tr>\n",
       "    <tr>\n",
       "      <th>yr_built</th>\n",
       "      <td>0.021352</td>\n",
       "      <td>0.054023</td>\n",
       "      <td>0.159167</td>\n",
       "      <td>0.506012</td>\n",
       "      <td>0.318037</td>\n",
       "      <td>0.053073</td>\n",
       "      <td>0.489302</td>\n",
       "      <td>-0.026165</td>\n",
       "      <td>-0.053452</td>\n",
       "      <td>-0.361380</td>\n",
       "      <td>0.446952</td>\n",
       "      <td>0.423879</td>\n",
       "      <td>-0.133103</td>\n",
       "      <td>1.000000</td>\n",
       "      <td>-0.224885</td>\n",
       "      <td>-0.346859</td>\n",
       "      <td>-0.148093</td>\n",
       "      <td>0.409338</td>\n",
       "      <td>0.326205</td>\n",
       "      <td>0.070948</td>\n",
       "    </tr>\n",
       "    <tr>\n",
       "      <th>yr_renovated</th>\n",
       "      <td>-0.016915</td>\n",
       "      <td>0.126437</td>\n",
       "      <td>0.019617</td>\n",
       "      <td>0.050735</td>\n",
       "      <td>0.055358</td>\n",
       "      <td>0.007641</td>\n",
       "      <td>0.006330</td>\n",
       "      <td>0.092884</td>\n",
       "      <td>0.103915</td>\n",
       "      <td>-0.060602</td>\n",
       "      <td>0.014409</td>\n",
       "      <td>0.023276</td>\n",
       "      <td>0.071330</td>\n",
       "      <td>-0.224885</td>\n",
       "      <td>1.000000</td>\n",
       "      <td>0.064362</td>\n",
       "      <td>0.029407</td>\n",
       "      <td>-0.068382</td>\n",
       "      <td>-0.002682</td>\n",
       "      <td>0.007851</td>\n",
       "    </tr>\n",
       "    <tr>\n",
       "      <th>zipcode</th>\n",
       "      <td>-0.008208</td>\n",
       "      <td>-0.053209</td>\n",
       "      <td>-0.157093</td>\n",
       "      <td>-0.203858</td>\n",
       "      <td>-0.199421</td>\n",
       "      <td>-0.129571</td>\n",
       "      <td>-0.059102</td>\n",
       "      <td>0.030287</td>\n",
       "      <td>0.084834</td>\n",
       "      <td>0.002973</td>\n",
       "      <td>-0.184852</td>\n",
       "      <td>-0.261177</td>\n",
       "      <td>0.074832</td>\n",
       "      <td>-0.346859</td>\n",
       "      <td>0.064362</td>\n",
       "      <td>1.000000</td>\n",
       "      <td>0.267035</td>\n",
       "      <td>-0.564065</td>\n",
       "      <td>-0.279020</td>\n",
       "      <td>-0.147216</td>\n",
       "    </tr>\n",
       "    <tr>\n",
       "      <th>lat</th>\n",
       "      <td>-0.001859</td>\n",
       "      <td>0.306998</td>\n",
       "      <td>-0.010541</td>\n",
       "      <td>0.024594</td>\n",
       "      <td>0.052552</td>\n",
       "      <td>-0.085675</td>\n",
       "      <td>0.049655</td>\n",
       "      <td>-0.014270</td>\n",
       "      <td>0.006170</td>\n",
       "      <td>-0.015048</td>\n",
       "      <td>0.114111</td>\n",
       "      <td>-0.000778</td>\n",
       "      <td>0.110513</td>\n",
       "      <td>-0.148093</td>\n",
       "      <td>0.029407</td>\n",
       "      <td>0.267035</td>\n",
       "      <td>1.000000</td>\n",
       "      <td>-0.135481</td>\n",
       "      <td>0.048901</td>\n",
       "      <td>-0.086408</td>\n",
       "    </tr>\n",
       "    <tr>\n",
       "      <th>long</th>\n",
       "      <td>0.020770</td>\n",
       "      <td>0.021637</td>\n",
       "      <td>0.133882</td>\n",
       "      <td>0.223028</td>\n",
       "      <td>0.240209</td>\n",
       "      <td>0.229516</td>\n",
       "      <td>0.125388</td>\n",
       "      <td>-0.041914</td>\n",
       "      <td>-0.078413</td>\n",
       "      <td>-0.106423</td>\n",
       "      <td>0.198355</td>\n",
       "      <td>0.343780</td>\n",
       "      <td>-0.144743</td>\n",
       "      <td>0.409338</td>\n",
       "      <td>-0.068382</td>\n",
       "      <td>-0.564065</td>\n",
       "      <td>-0.135481</td>\n",
       "      <td>1.000000</td>\n",
       "      <td>0.334581</td>\n",
       "      <td>0.254445</td>\n",
       "    </tr>\n",
       "    <tr>\n",
       "      <th>sqft_living15</th>\n",
       "      <td>-0.002935</td>\n",
       "      <td>0.585404</td>\n",
       "      <td>0.402626</td>\n",
       "      <td>0.568628</td>\n",
       "      <td>0.756419</td>\n",
       "      <td>0.144602</td>\n",
       "      <td>0.279856</td>\n",
       "      <td>0.086461</td>\n",
       "      <td>0.280432</td>\n",
       "      <td>-0.092731</td>\n",
       "      <td>0.713198</td>\n",
       "      <td>0.731860</td>\n",
       "      <td>0.200390</td>\n",
       "      <td>0.326205</td>\n",
       "      <td>-0.002682</td>\n",
       "      <td>-0.279020</td>\n",
       "      <td>0.048901</td>\n",
       "      <td>0.334581</td>\n",
       "      <td>1.000000</td>\n",
       "      <td>0.183183</td>\n",
       "    </tr>\n",
       "    <tr>\n",
       "      <th>sqft_lot15</th>\n",
       "      <td>-0.138810</td>\n",
       "      <td>0.082451</td>\n",
       "      <td>0.030402</td>\n",
       "      <td>0.087170</td>\n",
       "      <td>0.183280</td>\n",
       "      <td>0.718556</td>\n",
       "      <td>-0.011282</td>\n",
       "      <td>0.030702</td>\n",
       "      <td>0.072571</td>\n",
       "      <td>-0.003373</td>\n",
       "      <td>0.119241</td>\n",
       "      <td>0.194042</td>\n",
       "      <td>0.017285</td>\n",
       "      <td>0.070948</td>\n",
       "      <td>0.007851</td>\n",
       "      <td>-0.147216</td>\n",
       "      <td>-0.086408</td>\n",
       "      <td>0.254445</td>\n",
       "      <td>0.183183</td>\n",
       "      <td>1.000000</td>\n",
       "    </tr>\n",
       "  </tbody>\n",
       "</table>\n",
       "</div>"
      ],
      "text/plain": [
       "                     id     price  bedrooms  bathrooms  sqft_living  sqft_lot  \\\n",
       "id             1.000000 -0.016753  0.002461   0.005144    -0.012276 -0.132118   \n",
       "price         -0.016753  1.000000  0.315445   0.525147     0.702047  0.089664   \n",
       "bedrooms       0.002461  0.315445  1.000000   0.529159     0.591467  0.032807   \n",
       "bathrooms      0.005144  0.525147  0.529159   1.000000     0.754663  0.087735   \n",
       "sqft_living   -0.012276  0.702047  0.591467   0.754663     1.000000  0.172822   \n",
       "sqft_lot      -0.132118  0.089664  0.032807   0.087735     0.172822  1.000000   \n",
       "floors         0.018494  0.256811  0.181085   0.500645     0.353937 -0.005210   \n",
       "waterfront    -0.002724  0.266371 -0.006611   0.063742     0.103816  0.021603   \n",
       "view           0.011582  0.397299  0.081930   0.187732     0.284606  0.074707   \n",
       "condition     -0.023701  0.036336  0.025478  -0.124946    -0.058704 -0.008935   \n",
       "grade          0.008111  0.667447  0.366502   0.664979     0.762701  0.113616   \n",
       "sqft_above    -0.010874  0.605591  0.490600   0.685339     0.876597  0.183507   \n",
       "sqft_basement -0.005128  0.323812  0.309490   0.283789     0.435065  0.015293   \n",
       "yr_built       0.021352  0.054023  0.159167   0.506012     0.318037  0.053073   \n",
       "yr_renovated  -0.016915  0.126437  0.019617   0.050735     0.055358  0.007641   \n",
       "zipcode       -0.008208 -0.053209 -0.157093  -0.203858    -0.199421 -0.129571   \n",
       "lat           -0.001859  0.306998 -0.010541   0.024594     0.052552 -0.085675   \n",
       "long           0.020770  0.021637  0.133882   0.223028     0.240209  0.229516   \n",
       "sqft_living15 -0.002935  0.585404  0.402626   0.568628     0.756419  0.144602   \n",
       "sqft_lot15    -0.138810  0.082451  0.030402   0.087170     0.183280  0.718556   \n",
       "\n",
       "                 floors  waterfront      view  condition     grade  \\\n",
       "id             0.018494   -0.002724  0.011582  -0.023701  0.008111   \n",
       "price          0.256811    0.266371  0.397299   0.036336  0.667447   \n",
       "bedrooms       0.181085   -0.006611  0.081930   0.025478  0.366502   \n",
       "bathrooms      0.500645    0.063742  0.187732  -0.124946  0.664979   \n",
       "sqft_living    0.353937    0.103816  0.284606  -0.058704  0.762701   \n",
       "sqft_lot      -0.005210    0.021603  0.074707  -0.008935  0.113616   \n",
       "floors         1.000000    0.023695  0.029432  -0.263706  0.458171   \n",
       "waterfront     0.023695    1.000000  0.401857   0.016665  0.082773   \n",
       "view           0.029432    0.401857  1.000000   0.046031  0.251315   \n",
       "condition     -0.263706    0.016665  0.046031   1.000000 -0.144632   \n",
       "grade          0.458171    0.082773  0.251315  -0.144632  1.000000   \n",
       "sqft_above     0.523866    0.072072  0.167640  -0.158136  0.755919   \n",
       "sqft_basement -0.245684    0.080591  0.276959   0.174057  0.168412   \n",
       "yr_built       0.489302   -0.026165 -0.053452  -0.361380  0.446952   \n",
       "yr_renovated   0.006330    0.092884  0.103915  -0.060602  0.014409   \n",
       "zipcode       -0.059102    0.030287  0.084834   0.002973 -0.184852   \n",
       "lat            0.049655   -0.014270  0.006170  -0.015048  0.114111   \n",
       "long           0.125388   -0.041914 -0.078413  -0.106423  0.198355   \n",
       "sqft_living15  0.279856    0.086461  0.280432  -0.092731  0.713198   \n",
       "sqft_lot15    -0.011282    0.030702  0.072571  -0.003373  0.119241   \n",
       "\n",
       "               sqft_above  sqft_basement  yr_built  yr_renovated   zipcode  \\\n",
       "id              -0.010874      -0.005128  0.021352     -0.016915 -0.008208   \n",
       "price            0.605591       0.323812  0.054023      0.126437 -0.053209   \n",
       "bedrooms         0.490600       0.309490  0.159167      0.019617 -0.157093   \n",
       "bathrooms        0.685339       0.283789  0.506012      0.050735 -0.203858   \n",
       "sqft_living      0.876597       0.435065  0.318037      0.055358 -0.199421   \n",
       "sqft_lot         0.183507       0.015293  0.053073      0.007641 -0.129571   \n",
       "floors           0.523866      -0.245684  0.489302      0.006330 -0.059102   \n",
       "waterfront       0.072072       0.080591 -0.026165      0.092884  0.030287   \n",
       "view             0.167640       0.276959 -0.053452      0.103915  0.084834   \n",
       "condition       -0.158136       0.174057 -0.361380     -0.060602  0.002973   \n",
       "grade            0.755919       0.168412  0.446952      0.014409 -0.184852   \n",
       "sqft_above       1.000000      -0.051918  0.423879      0.023276 -0.261177   \n",
       "sqft_basement   -0.051918       1.000000 -0.133103      0.071330  0.074832   \n",
       "yr_built         0.423879      -0.133103  1.000000     -0.224885 -0.346859   \n",
       "yr_renovated     0.023276       0.071330 -0.224885      1.000000  0.064362   \n",
       "zipcode         -0.261177       0.074832 -0.346859      0.064362  1.000000   \n",
       "lat             -0.000778       0.110513 -0.148093      0.029407  0.267035   \n",
       "long             0.343780      -0.144743  0.409338     -0.068382 -0.564065   \n",
       "sqft_living15    0.731860       0.200390  0.326205     -0.002682 -0.279020   \n",
       "sqft_lot15       0.194042       0.017285  0.070948      0.007851 -0.147216   \n",
       "\n",
       "                    lat      long  sqft_living15  sqft_lot15  \n",
       "id            -0.001859  0.020770      -0.002935   -0.138810  \n",
       "price          0.306998  0.021637       0.585404    0.082451  \n",
       "bedrooms      -0.010541  0.133882       0.402626    0.030402  \n",
       "bathrooms      0.024594  0.223028       0.568628    0.087170  \n",
       "sqft_living    0.052552  0.240209       0.756419    0.183280  \n",
       "sqft_lot      -0.085675  0.229516       0.144602    0.718556  \n",
       "floors         0.049655  0.125388       0.279856   -0.011282  \n",
       "waterfront    -0.014270 -0.041914       0.086461    0.030702  \n",
       "view           0.006170 -0.078413       0.280432    0.072571  \n",
       "condition     -0.015048 -0.106423      -0.092731   -0.003373  \n",
       "grade          0.114111  0.198355       0.713198    0.119241  \n",
       "sqft_above    -0.000778  0.343780       0.731860    0.194042  \n",
       "sqft_basement  0.110513 -0.144743       0.200390    0.017285  \n",
       "yr_built      -0.148093  0.409338       0.326205    0.070948  \n",
       "yr_renovated   0.029407 -0.068382      -0.002682    0.007851  \n",
       "zipcode        0.267035 -0.564065      -0.279020   -0.147216  \n",
       "lat            1.000000 -0.135481       0.048901   -0.086408  \n",
       "long          -0.135481  1.000000       0.334581    0.254445  \n",
       "sqft_living15  0.048901  0.334581       1.000000    0.183183  \n",
       "sqft_lot15    -0.086408  0.254445       0.183183    1.000000  "
      ]
     },
     "execution_count": 15,
     "metadata": {},
     "output_type": "execute_result"
    }
   ],
   "source": [
    "corr = df1.corr()\n",
    "corr"
   ]
  },
  {
   "cell_type": "code",
   "execution_count": 16,
   "id": "18a35ec1",
   "metadata": {},
   "outputs": [
    {
     "data": {
      "text/plain": [
       "<AxesSubplot:>"
      ]
     },
     "execution_count": 16,
     "metadata": {},
     "output_type": "execute_result"
    },
    {
     "data": {
      "image/png": "[encoded data removed]",
      "text/plain": [
       "<Figure size 720x720 with 2 Axes>"
      ]
     },
     "metadata": {
      "needs_background": "light"
     },
     "output_type": "display_data"
    }
   ],
   "source": [
    "f, ax = plt.subplots(figsize=(10, 10))\n",
    "sb.heatmap(corr, cmap=sb.diverging_palette(255, 5, as_cmap=True), square=True, ax=ax)"
   ]
  },
  {
   "cell_type": "code",
   "execution_count": 17,
   "id": "b52f0b06",
   "metadata": {},
   "outputs": [
    {
     "data": {
      "text/plain": [
       "price            1.000000\n",
       "bathrooms        0.525147\n",
       "sqft_living      0.702047\n",
       "grade            0.667447\n",
       "sqft_above       0.605591\n",
       "sqft_living15    0.585404\n",
       "Name: price, dtype: float64"
      ]
     },
     "execution_count": 17,
     "metadata": {},
     "output_type": "execute_result"
    }
   ],
   "source": [
    "corr_features = corr['price'][corr['price']>0.5]\n",
    "corr_features"
   ]
  },
  {
   "cell_type": "code",
   "execution_count": 18,
   "id": "93a6e02d",
   "metadata": {},
   "outputs": [
    {
     "name": "stderr",
     "output_type": "stream",
     "text": [
      "C:\\Users\\lenovo\\anaconda3\\lib\\site-packages\\pandas\\core\\frame.py:4308: SettingWithCopyWarning: \n",
      "A value is trying to be set on a copy of a slice from a DataFrame\n",
      "\n",
      "See the caveats in the documentation: https://pandas.pydata.org/pandas-docs/stable/user_guide/indexing.html#returning-a-view-versus-a-copy\n",
      "  return super().drop(\n"
     ]
    }
   ],
   "source": [
    "df1.drop(['id'], inplace=True, axis=1)"
   ]
  },
  {
   "cell_type": "code",
   "execution_count": 19,
   "id": "9ffbbc0f",
   "metadata": {},
   "outputs": [],
   "source": [
    "df1.drop(['date'], inplace=True, axis=1)"
   ]
  },
  {
   "cell_type": "code",
   "execution_count": 20,
   "id": "10919853",
   "metadata": {},
   "outputs": [
    {
     "data": {
      "text/html": [
       "<div>\n",
       "<style scoped>\n",
       "    .dataframe tbody tr th:only-of-type {\n",
       "        vertical-align: middle;\n",
       "    }\n",
       "\n",
       "    .dataframe tbody tr th {\n",
       "        vertical-align: top;\n",
       "    }\n",
       "\n",
       "    .dataframe thead th {\n",
       "        text-align: right;\n",
       "    }\n",
       "</style>\n",
       "<table border=\"1\" class=\"dataframe\">\n",
       "  <thead>\n",
       "    <tr style=\"text-align: right;\">\n",
       "      <th></th>\n",
       "      <th>price</th>\n",
       "      <th>bedrooms</th>\n",
       "      <th>bathrooms</th>\n",
       "      <th>sqft_living</th>\n",
       "      <th>sqft_lot</th>\n",
       "      <th>floors</th>\n",
       "      <th>waterfront</th>\n",
       "      <th>view</th>\n",
       "      <th>condition</th>\n",
       "      <th>grade</th>\n",
       "      <th>sqft_above</th>\n",
       "      <th>sqft_basement</th>\n",
       "      <th>yr_built</th>\n",
       "      <th>yr_renovated</th>\n",
       "      <th>zipcode</th>\n",
       "      <th>lat</th>\n",
       "      <th>long</th>\n",
       "      <th>sqft_living15</th>\n",
       "      <th>sqft_lot15</th>\n",
       "    </tr>\n",
       "  </thead>\n",
       "  <tbody>\n",
       "    <tr>\n",
       "      <th>0</th>\n",
       "      <td>221900.0</td>\n",
       "      <td>3</td>\n",
       "      <td>1.00</td>\n",
       "      <td>1180</td>\n",
       "      <td>5650</td>\n",
       "      <td>1.0</td>\n",
       "      <td>0</td>\n",
       "      <td>0</td>\n",
       "      <td>3</td>\n",
       "      <td>7</td>\n",
       "      <td>1180</td>\n",
       "      <td>0</td>\n",
       "      <td>1955</td>\n",
       "      <td>0</td>\n",
       "      <td>98178</td>\n",
       "      <td>47.5112</td>\n",
       "      <td>-122.257</td>\n",
       "      <td>1340</td>\n",
       "      <td>5650</td>\n",
       "    </tr>\n",
       "    <tr>\n",
       "      <th>1</th>\n",
       "      <td>538000.0</td>\n",
       "      <td>3</td>\n",
       "      <td>2.25</td>\n",
       "      <td>2570</td>\n",
       "      <td>7242</td>\n",
       "      <td>2.0</td>\n",
       "      <td>0</td>\n",
       "      <td>0</td>\n",
       "      <td>3</td>\n",
       "      <td>7</td>\n",
       "      <td>2170</td>\n",
       "      <td>400</td>\n",
       "      <td>1951</td>\n",
       "      <td>1991</td>\n",
       "      <td>98125</td>\n",
       "      <td>47.7210</td>\n",
       "      <td>-122.319</td>\n",
       "      <td>1690</td>\n",
       "      <td>7639</td>\n",
       "    </tr>\n",
       "    <tr>\n",
       "      <th>2</th>\n",
       "      <td>180000.0</td>\n",
       "      <td>2</td>\n",
       "      <td>1.00</td>\n",
       "      <td>770</td>\n",
       "      <td>10000</td>\n",
       "      <td>1.0</td>\n",
       "      <td>0</td>\n",
       "      <td>0</td>\n",
       "      <td>3</td>\n",
       "      <td>6</td>\n",
       "      <td>770</td>\n",
       "      <td>0</td>\n",
       "      <td>1933</td>\n",
       "      <td>0</td>\n",
       "      <td>98028</td>\n",
       "      <td>47.7379</td>\n",
       "      <td>-122.233</td>\n",
       "      <td>2720</td>\n",
       "      <td>8062</td>\n",
       "    </tr>\n",
       "    <tr>\n",
       "      <th>3</th>\n",
       "      <td>604000.0</td>\n",
       "      <td>4</td>\n",
       "      <td>3.00</td>\n",
       "      <td>1960</td>\n",
       "      <td>5000</td>\n",
       "      <td>1.0</td>\n",
       "      <td>0</td>\n",
       "      <td>0</td>\n",
       "      <td>5</td>\n",
       "      <td>7</td>\n",
       "      <td>1050</td>\n",
       "      <td>910</td>\n",
       "      <td>1965</td>\n",
       "      <td>0</td>\n",
       "      <td>98136</td>\n",
       "      <td>47.5208</td>\n",
       "      <td>-122.393</td>\n",
       "      <td>1360</td>\n",
       "      <td>5000</td>\n",
       "    </tr>\n",
       "    <tr>\n",
       "      <th>4</th>\n",
       "      <td>510000.0</td>\n",
       "      <td>3</td>\n",
       "      <td>2.00</td>\n",
       "      <td>1680</td>\n",
       "      <td>8080</td>\n",
       "      <td>1.0</td>\n",
       "      <td>0</td>\n",
       "      <td>0</td>\n",
       "      <td>3</td>\n",
       "      <td>8</td>\n",
       "      <td>1680</td>\n",
       "      <td>0</td>\n",
       "      <td>1987</td>\n",
       "      <td>0</td>\n",
       "      <td>98074</td>\n",
       "      <td>47.6168</td>\n",
       "      <td>-122.045</td>\n",
       "      <td>1800</td>\n",
       "      <td>7503</td>\n",
       "    </tr>\n",
       "    <tr>\n",
       "      <th>...</th>\n",
       "      <td>...</td>\n",
       "      <td>...</td>\n",
       "      <td>...</td>\n",
       "      <td>...</td>\n",
       "      <td>...</td>\n",
       "      <td>...</td>\n",
       "      <td>...</td>\n",
       "      <td>...</td>\n",
       "      <td>...</td>\n",
       "      <td>...</td>\n",
       "      <td>...</td>\n",
       "      <td>...</td>\n",
       "      <td>...</td>\n",
       "      <td>...</td>\n",
       "      <td>...</td>\n",
       "      <td>...</td>\n",
       "      <td>...</td>\n",
       "      <td>...</td>\n",
       "      <td>...</td>\n",
       "    </tr>\n",
       "    <tr>\n",
       "      <th>21608</th>\n",
       "      <td>360000.0</td>\n",
       "      <td>3</td>\n",
       "      <td>2.50</td>\n",
       "      <td>1530</td>\n",
       "      <td>1131</td>\n",
       "      <td>3.0</td>\n",
       "      <td>0</td>\n",
       "      <td>0</td>\n",
       "      <td>3</td>\n",
       "      <td>8</td>\n",
       "      <td>1530</td>\n",
       "      <td>0</td>\n",
       "      <td>2009</td>\n",
       "      <td>0</td>\n",
       "      <td>98103</td>\n",
       "      <td>47.6993</td>\n",
       "      <td>-122.346</td>\n",
       "      <td>1530</td>\n",
       "      <td>1509</td>\n",
       "    </tr>\n",
       "    <tr>\n",
       "      <th>21609</th>\n",
       "      <td>400000.0</td>\n",
       "      <td>4</td>\n",
       "      <td>2.50</td>\n",
       "      <td>2310</td>\n",
       "      <td>5813</td>\n",
       "      <td>2.0</td>\n",
       "      <td>0</td>\n",
       "      <td>0</td>\n",
       "      <td>3</td>\n",
       "      <td>8</td>\n",
       "      <td>2310</td>\n",
       "      <td>0</td>\n",
       "      <td>2014</td>\n",
       "      <td>0</td>\n",
       "      <td>98146</td>\n",
       "      <td>47.5107</td>\n",
       "      <td>-122.362</td>\n",
       "      <td>1830</td>\n",
       "      <td>7200</td>\n",
       "    </tr>\n",
       "    <tr>\n",
       "      <th>21610</th>\n",
       "      <td>402101.0</td>\n",
       "      <td>2</td>\n",
       "      <td>0.75</td>\n",
       "      <td>1020</td>\n",
       "      <td>1350</td>\n",
       "      <td>2.0</td>\n",
       "      <td>0</td>\n",
       "      <td>0</td>\n",
       "      <td>3</td>\n",
       "      <td>7</td>\n",
       "      <td>1020</td>\n",
       "      <td>0</td>\n",
       "      <td>2009</td>\n",
       "      <td>0</td>\n",
       "      <td>98144</td>\n",
       "      <td>47.5944</td>\n",
       "      <td>-122.299</td>\n",
       "      <td>1020</td>\n",
       "      <td>2007</td>\n",
       "    </tr>\n",
       "    <tr>\n",
       "      <th>21611</th>\n",
       "      <td>400000.0</td>\n",
       "      <td>3</td>\n",
       "      <td>2.50</td>\n",
       "      <td>1600</td>\n",
       "      <td>2388</td>\n",
       "      <td>2.0</td>\n",
       "      <td>0</td>\n",
       "      <td>0</td>\n",
       "      <td>3</td>\n",
       "      <td>8</td>\n",
       "      <td>1600</td>\n",
       "      <td>0</td>\n",
       "      <td>2004</td>\n",
       "      <td>0</td>\n",
       "      <td>98027</td>\n",
       "      <td>47.5345</td>\n",
       "      <td>-122.069</td>\n",
       "      <td>1410</td>\n",
       "      <td>1287</td>\n",
       "    </tr>\n",
       "    <tr>\n",
       "      <th>21612</th>\n",
       "      <td>325000.0</td>\n",
       "      <td>2</td>\n",
       "      <td>0.75</td>\n",
       "      <td>1020</td>\n",
       "      <td>1076</td>\n",
       "      <td>2.0</td>\n",
       "      <td>0</td>\n",
       "      <td>0</td>\n",
       "      <td>3</td>\n",
       "      <td>7</td>\n",
       "      <td>1020</td>\n",
       "      <td>0</td>\n",
       "      <td>2008</td>\n",
       "      <td>0</td>\n",
       "      <td>98144</td>\n",
       "      <td>47.5941</td>\n",
       "      <td>-122.299</td>\n",
       "      <td>1020</td>\n",
       "      <td>1357</td>\n",
       "    </tr>\n",
       "  </tbody>\n",
       "</table>\n",
       "<p>21612 rows × 19 columns</p>\n",
       "</div>"
      ],
      "text/plain": [
       "          price  bedrooms  bathrooms  sqft_living  sqft_lot  floors  \\\n",
       "0      221900.0         3       1.00         1180      5650     1.0   \n",
       "1      538000.0         3       2.25         2570      7242     2.0   \n",
       "2      180000.0         2       1.00          770     10000     1.0   \n",
       "3      604000.0         4       3.00         1960      5000     1.0   \n",
       "4      510000.0         3       2.00         1680      8080     1.0   \n",
       "...         ...       ...        ...          ...       ...     ...   \n",
       "21608  360000.0         3       2.50         1530      1131     3.0   \n",
       "21609  400000.0         4       2.50         2310      5813     2.0   \n",
       "21610  402101.0         2       0.75         1020      1350     2.0   \n",
       "21611  400000.0         3       2.50         1600      2388     2.0   \n",
       "21612  325000.0         2       0.75         1020      1076     2.0   \n",
       "\n",
       "       waterfront  view  condition  grade  sqft_above  sqft_basement  \\\n",
       "0               0     0          3      7        1180              0   \n",
       "1               0     0          3      7        2170            400   \n",
       "2               0     0          3      6         770              0   \n",
       "3               0     0          5      7        1050            910   \n",
       "4               0     0          3      8        1680              0   \n",
       "...           ...   ...        ...    ...         ...            ...   \n",
       "21608           0     0          3      8        1530              0   \n",
       "21609           0     0          3      8        2310              0   \n",
       "21610           0     0          3      7        1020              0   \n",
       "21611           0     0          3      8        1600              0   \n",
       "21612           0     0          3      7        1020              0   \n",
       "\n",
       "       yr_built  yr_renovated  zipcode      lat     long  sqft_living15  \\\n",
       "0          1955             0    98178  47.5112 -122.257           1340   \n",
       "1          1951          1991    98125  47.7210 -122.319           1690   \n",
       "2          1933             0    98028  47.7379 -122.233           2720   \n",
       "3          1965             0    98136  47.5208 -122.393           1360   \n",
       "4          1987             0    98074  47.6168 -122.045           1800   \n",
       "...         ...           ...      ...      ...      ...            ...   \n",
       "21608      2009             0    98103  47.6993 -122.346           1530   \n",
       "21609      2014             0    98146  47.5107 -122.362           1830   \n",
       "21610      2009             0    98144  47.5944 -122.299           1020   \n",
       "21611      2004             0    98027  47.5345 -122.069           1410   \n",
       "21612      2008             0    98144  47.5941 -122.299           1020   \n",
       "\n",
       "       sqft_lot15  \n",
       "0            5650  \n",
       "1            7639  \n",
       "2            8062  \n",
       "3            5000  \n",
       "4            7503  \n",
       "...           ...  \n",
       "21608        1509  \n",
       "21609        7200  \n",
       "21610        2007  \n",
       "21611        1287  \n",
       "21612        1357  \n",
       "\n",
       "[21612 rows x 19 columns]"
      ]
     },
     "execution_count": 20,
     "metadata": {},
     "output_type": "execute_result"
    }
   ],
   "source": [
    "df1"
   ]
  },
  {
   "cell_type": "code",
   "execution_count": 21,
   "id": "c1f5b1d4",
   "metadata": {},
   "outputs": [],
   "source": [
    "x = []\n",
    "for i in range(len(df1)):\n",
    "    x.append(list((df1.iloc[i]))[1:])"
   ]
  },
  {
   "cell_type": "code",
   "execution_count": 22,
   "id": "cfc1df67",
   "metadata": {},
   "outputs": [
    {
     "data": {
      "text/plain": [
       "21612"
      ]
     },
     "execution_count": 22,
     "metadata": {},
     "output_type": "execute_result"
    }
   ],
   "source": [
    "len(x)"
   ]
  },
  {
   "cell_type": "code",
   "execution_count": 23,
   "id": "422a6943",
   "metadata": {},
   "outputs": [],
   "source": [
    "y=[]\n",
    "for i in df1['price']:\n",
    "    y.append(i)"
   ]
  },
  {
   "cell_type": "code",
   "execution_count": 24,
   "id": "7caa8ce1",
   "metadata": {},
   "outputs": [
    {
     "data": {
      "text/plain": [
       "21612"
      ]
     },
     "execution_count": 24,
     "metadata": {},
     "output_type": "execute_result"
    }
   ],
   "source": [
    "len(y)"
   ]
  },
  {
   "cell_type": "code",
   "execution_count": 25,
   "id": "648c611a",
   "metadata": {},
   "outputs": [],
   "source": [
    "from sklearn.model_selection import train_test_split"
   ]
  },
  {
   "cell_type": "code",
   "execution_count": 26,
   "id": "06be33af",
   "metadata": {},
   "outputs": [],
   "source": [
    " x_train, x_test, y_train, y_test = train_test_split(x, y, test_size=0.2, random_state=42)"
   ]
  },
  {
   "cell_type": "code",
   "execution_count": 27,
   "id": "b03516dc",
   "metadata": {},
   "outputs": [
    {
     "data": {
      "text/plain": [
       "4323"
      ]
     },
     "execution_count": 27,
     "metadata": {},
     "output_type": "execute_result"
    }
   ],
   "source": [
    "len(x_test)"
   ]
  },
  {
   "cell_type": "code",
   "execution_count": 28,
   "id": "7762d098",
   "metadata": {},
   "outputs": [
    {
     "name": "stdout",
     "output_type": "stream",
     "text": [
      "<class 'pandas.core.frame.DataFrame'>\n",
      "Int64Index: 21612 entries, 0 to 21612\n",
      "Data columns (total 19 columns):\n",
      " #   Column         Non-Null Count  Dtype  \n",
      "---  ------         --------------  -----  \n",
      " 0   price          21612 non-null  float64\n",
      " 1   bedrooms       21612 non-null  int64  \n",
      " 2   bathrooms      21612 non-null  float64\n",
      " 3   sqft_living    21612 non-null  int64  \n",
      " 4   sqft_lot       21612 non-null  int64  \n",
      " 5   floors         21612 non-null  float64\n",
      " 6   waterfront     21612 non-null  int64  \n",
      " 7   view           21612 non-null  int64  \n",
      " 8   condition      21612 non-null  int64  \n",
      " 9   grade          21612 non-null  int64  \n",
      " 10  sqft_above     21612 non-null  int64  \n",
      " 11  sqft_basement  21612 non-null  int64  \n",
      " 12  yr_built       21612 non-null  int64  \n",
      " 13  yr_renovated   21612 non-null  int64  \n",
      " 14  zipcode        21612 non-null  int64  \n",
      " 15  lat            21612 non-null  float64\n",
      " 16  long           21612 non-null  float64\n",
      " 17  sqft_living15  21612 non-null  int64  \n",
      " 18  sqft_lot15     21612 non-null  int64  \n",
      "dtypes: float64(5), int64(14)\n",
      "memory usage: 3.3 MB\n"
     ]
    }
   ],
   "source": [
    "df1.info()"
   ]
  },
  {
   "cell_type": "markdown",
   "id": "29a66f23",
   "metadata": {},
   "source": [
    "#Nearest Neighbors Model"
   ]
  },
  {
   "cell_type": "code",
   "execution_count": 29,
   "id": "77649ee8",
   "metadata": {},
   "outputs": [],
   "source": [
    "from sklearn.model_selection import GridSearchCV\n",
    "from sklearn.metrics import mean_absolute_error"
   ]
  },
  {
   "cell_type": "code",
   "execution_count": 30,
   "id": "347e8607",
   "metadata": {},
   "outputs": [
    {
     "name": "stdout",
     "output_type": "stream",
     "text": [
      "Best parameters:\n",
      "{'algorithm': 'ball_tree', 'leaf_size': 24, 'n_neighbors': 12, 'weights': 'distance'}\n"
     ]
    }
   ],
   "source": [
    "from sklearn.neighbors import KNeighborsRegressor\n",
    "\n",
    "parameter_space = {\n",
    "    \"n_neighbors\": [8,9, 10, 11,12],\n",
    "    \"weights\": [\"uniform\", \"distance\"],\n",
    "    \"algorithm\": [\"ball_tree\", \"kd_tree\", \"brute\"],\n",
    "    \"leaf_size\": [1,2,5,10,24]\n",
    "}\n",
    "\n",
    "clf = GridSearchCV(KNeighborsRegressor(), parameter_space, cv=3, scoring=\"neg_mean_absolute_error\", n_jobs=4)\n",
    "\n",
    "clf.fit(x_train, y_train)\n",
    "print(\"Best parameters:\")\n",
    "print(clf.best_params_)"
   ]
  },
  {
   "cell_type": "code",
   "execution_count": 31,
   "id": "4a4664d8",
   "metadata": {},
   "outputs": [],
   "source": [
    "knn_model = KNeighborsRegressor(**clf.best_params_)"
   ]
  },
  {
   "cell_type": "code",
   "execution_count": 32,
   "id": "dae43bdf",
   "metadata": {},
   "outputs": [
    {
     "data": {
      "text/plain": [
       "KNeighborsRegressor(algorithm='ball_tree', leaf_size=24, n_neighbors=12,\n",
       "                    weights='distance')"
      ]
     },
     "execution_count": 32,
     "metadata": {},
     "output_type": "execute_result"
    }
   ],
   "source": [
    "knn_model.fit(x_train, y_train)"
   ]
  },
  {
   "cell_type": "code",
   "execution_count": 33,
   "id": "177b5286",
   "metadata": {},
   "outputs": [
    {
     "name": "stdout",
     "output_type": "stream",
     "text": [
      "K-Nearest Neighbors MAE = 155456.33421242787\n"
     ]
    }
   ],
   "source": [
    "y_pred = knn_model.predict(x_test)\n",
    "knn_mae = mean_absolute_error(y_test, y_pred)\n",
    "print(\"K-Nearest Neighbors MAE =\", knn_mae)"
   ]
  },
  {
   "cell_type": "markdown",
   "id": "4af63515",
   "metadata": {},
   "source": [
    "#Decision tree Model"
   ]
  },
  {
   "cell_type": "code",
   "execution_count": 34,
   "id": "9eaad70a",
   "metadata": {},
   "outputs": [],
   "source": [
    "from sklearn.tree import DecisionTreeRegressor"
   ]
  },
  {
   "cell_type": "code",
   "execution_count": 35,
   "id": "270450ec",
   "metadata": {},
   "outputs": [
    {
     "name": "stdout",
     "output_type": "stream",
     "text": [
      "Best parameters:\n",
      "{'criterion': 'mse', 'max_features': 15, 'min_samples_leaf': 3, 'min_samples_split': 50}\n"
     ]
    }
   ],
   "source": [
    "parameter_space = \\\n",
    "    {\n",
    "        \"criterion\": [\"mse\", \"friedman_mse\", \"mae\"],\n",
    "        \"min_samples_split\": [5, 18, 29, 50],\n",
    "        \"min_samples_leaf\": [3, 7, 15, 25],\n",
    "        \"max_features\": [5, 10, 15, 18],\n",
    "    }\n",
    "\n",
    "clf = GridSearchCV(DecisionTreeRegressor(random_state=3), parameter_space, cv=3, scoring=\"neg_mean_absolute_error\", n_jobs=4)\n",
    "\n",
    "clf.fit(x_train, y_train)\n",
    "print(\"Best parameters:\")\n",
    "print(clf.best_params_)"
   ]
  },
  {
   "cell_type": "code",
   "execution_count": 36,
   "id": "271050d5",
   "metadata": {},
   "outputs": [],
   "source": [
    "dt_model = DecisionTreeRegressor(**clf.best_params_)"
   ]
  },
  {
   "cell_type": "code",
   "execution_count": 37,
   "id": "ea823a08",
   "metadata": {},
   "outputs": [
    {
     "data": {
      "text/plain": [
       "DecisionTreeRegressor(max_features=15, min_samples_leaf=3, min_samples_split=50)"
      ]
     },
     "execution_count": 37,
     "metadata": {},
     "output_type": "execute_result"
    }
   ],
   "source": [
    "dt_model.fit(x_train, y_train)"
   ]
  },
  {
   "cell_type": "code",
   "execution_count": 38,
   "id": "2ef38d19",
   "metadata": {},
   "outputs": [
    {
     "name": "stdout",
     "output_type": "stream",
     "text": [
      "Decision Tree MAE = 91153.5390192424\n"
     ]
    }
   ],
   "source": [
    "y_pred = dt_model.predict(x_test)\n",
    "dt_mae = mean_absolute_error(y_test, y_pred)\n",
    "print(\"Decision Tree MAE =\", dt_mae)"
   ]
  },
  {
   "cell_type": "markdown",
   "id": "67b4a233",
   "metadata": {},
   "source": [
    "#Random Forest Regressor Model"
   ]
  },
  {
   "cell_type": "code",
   "execution_count": 41,
   "id": "0a5357a9",
   "metadata": {},
   "outputs": [],
   "source": [
    "from sklearn.ensemble import RandomForestRegressor\n",
    "from sklearn.model_selection import RandomizedSearchCV"
   ]
  },
  {
   "cell_type": "code",
   "execution_count": 42,
   "id": "ce55e1f3",
   "metadata": {},
   "outputs": [
    {
     "name": "stdout",
     "output_type": "stream",
     "text": [
      "Best parameters:\n",
      "{'n_estimators': 300, 'min_samples_split': 2, 'min_samples_leaf': 1, 'max_depth': 254, 'criterion': 'mse', 'bootstrap': True}\n"
     ]
    }
   ],
   "source": [
    "parameter_space = \\\n",
    "    {\n",
    "        \"n_estimators\": [10, 100, 300, 600],\n",
    "        \"criterion\": [\"mse\", \"mae\"],\n",
    "        \"max_depth\": [7, 50, 254],\n",
    "        \"min_samples_split\": [2, 5],\n",
    "        \"min_samples_leaf\": [1, 5],\n",
    "        \"bootstrap\": [True, False],\n",
    "    }\n",
    "\n",
    "clf = RandomizedSearchCV(RandomForestRegressor(random_state=3), parameter_space, cv=3, n_jobs=4,\n",
    "                         scoring=\"neg_mean_absolute_error\", n_iter=10, random_state=3)\n",
    "\n",
    "clf.fit(x_train, y_train)\n",
    "print(\"Best parameters:\")\n",
    "print(clf.best_params_)"
   ]
  },
  {
   "cell_type": "code",
   "execution_count": 43,
   "id": "f0dc097b",
   "metadata": {},
   "outputs": [],
   "source": [
    "rf_model = RandomForestRegressor(**clf.best_params_)"
   ]
  },
  {
   "cell_type": "code",
   "execution_count": 44,
   "id": "9511b752",
   "metadata": {},
   "outputs": [],
   "source": [
    "rf_model.fit(x_train, y_train);"
   ]
  },
  {
   "cell_type": "code",
   "execution_count": 45,
   "id": "93eb8229",
   "metadata": {},
   "outputs": [
    {
     "name": "stdout",
     "output_type": "stream",
     "text": [
      "Random Forest MAE = 72384.83678333438\n"
     ]
    }
   ],
   "source": [
    "y_pred = rf_model.predict(x_test)\n",
    "rf_mae = mean_absolute_error(y_test, y_pred)\n",
    "print(\"Random Forest MAE =\", rf_mae)"
   ]
  },
  {
   "cell_type": "markdown",
   "id": "957705fe",
   "metadata": {},
   "source": [
    "#Support Vector Regressor Model"
   ]
  },
  {
   "cell_type": "code",
   "execution_count": 46,
   "id": "7331f441",
   "metadata": {},
   "outputs": [],
   "source": [
    "from sklearn.svm import SVR"
   ]
  },
  {
   "cell_type": "code",
   "execution_count": null,
   "id": "9452006b",
   "metadata": {},
   "outputs": [],
   "source": [
    "parameter_space = \\\n",
    "    {\n",
    "        \"kernel\": [\"poly\", \"linear\", \"rbf\", \"sigmoid\"],\n",
    "        \"degree\": [3, 5],\n",
    "        \"coef0\": [0, 3, 7],\n",
    "        \"C\": [1, 10, 100],\n",
    "    }\n",
    "\n",
    "clf = GridSearchCV(SVR(), parameter_space, cv=3, n_jobs=4, scoring=\"neg_mean_absolute_error\")\n",
    "\n",
    "clf.fit(x_train, y_train)\n",
    "print(\"Best parameters:\")\n",
    "print(clf.best_params_)"
   ]
  },
  {
   "cell_type": "code",
   "execution_count": null,
   "id": "6072fac8",
   "metadata": {},
   "outputs": [],
   "source": [
    "svr_model = SVR(**clf.best_params_)"
   ]
  },
  {
   "cell_type": "code",
   "execution_count": null,
   "id": "de60835d",
   "metadata": {},
   "outputs": [],
   "source": [
    "svr_model.fit(x_train, y_train);"
   ]
  },
  {
   "cell_type": "code",
   "execution_count": null,
   "id": "5dff2e78",
   "metadata": {},
   "outputs": [],
   "source": [
    "y_pred = svr_model.predict(x_test)\n",
    "svr_mae = mean_absolute_error(y_test, y_pred)\n",
    "print(\"Support Vector Regression MAE =\", svr_mae)"
   ]
  },
  {
   "cell_type": "code",
   "execution_count": null,
   "id": "9f55cde4",
   "metadata": {},
   "outputs": [],
   "source": []
  },
  {
   "cell_type": "code",
   "execution_count": null,
   "id": "ca4a2d26",
   "metadata": {},
   "outputs": [],
   "source": []
  },
  {
   "cell_type": "code",
   "execution_count": 17,
   "id": "fc0811f5",
   "metadata": {},
   "outputs": [
    {
     "data": {
      "image/png": "[encoded data removed]",
      "text/plain": [
       "<Figure size 432x288 with 1 Axes>"
      ]
     },
     "metadata": {
      "needs_background": "light"
     },
     "output_type": "display_data"
    }
   ],
   "source": [
    "x_title = ['KNN', 'Decision Tree', 'Random Forest', 'XGBoost']\n",
    "y_title = [156795.05, 91649.22, 72244.18, 68553.24]\n",
    "colors = [\"#392834\", \"#7e3c4d\", \"#c05949\", \"#edab06\"]\n",
    "fig, ax = plt.subplots()\n",
    "plt.barh(y=range(len(x_title)), tick_label=x_title, width=y_title, height=0.4, color=colors);\n",
    "ax.set(xlabel=\"MAE (smaller is better)\", ylabel=\"Model\");"
   ]
  },
  {
   "cell_type": "code",
   "execution_count": null,
   "id": "4952f1b6",
   "metadata": {},
   "outputs": [],
   "source": []
  }
 ],
 "metadata": {
  "kernelspec": {
   "display_name": "Python 3",
   "language": "python",
   "name": "python3"
  },
  "language_info": {
   "codemirror_mode": {
    "name": "ipython",
    "version": 3
   },
   "file_extension": ".py",
   "mimetype": "text/x-python",
   "name": "python",
   "nbconvert_exporter": "python",
   "pygments_lexer": "ipython3",
   "version": "3.8.8"
  }
 },
 "nbformat": 4,
 "nbformat_minor": 5
}
