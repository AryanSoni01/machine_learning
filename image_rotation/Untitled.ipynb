{
 "cells": [
  {
   "cell_type": "code",
   "execution_count": 2,
   "id": "cd430025",
   "metadata": {},
   "outputs": [],
   "source": [
    "import os\n",
    "import cv2\n",
    "import json\n",
    "import imutils\n",
    "import numpy as np\n",
    "import pandas as pd\n",
    "from PIL import Image\n",
    "from numpy import random\n",
    "from matplotlib import pyplot as plt\n",
    "\n",
    "import keras\n",
    "from tensorflow import keras\n",
    "from keras.models import Model\n",
    "from keras.layers import Conv2D, Flatten, Dense, Activation, MaxPooling2D, Dropout, Input, BatchNormalization, ZeroPadding2D, AveragePooling2D"
   ]
  },
  {
   "cell_type": "code",
   "execution_count": 3,
   "id": "d3fc5a3d",
   "metadata": {},
   "outputs": [],
   "source": [
    "def preprocess(im):\n",
    "    \n",
    "    im = im/128\n",
    "    im -= 1\n",
    "    return im.astype('float16')"
   ]
  },
  {
   "cell_type": "code",
   "execution_count": 4,
   "id": "b268f9c9",
   "metadata": {},
   "outputs": [],
   "source": [
    "def load_data_batch(ind, batch_size=None, channel=3, im_size=100, data_path='processed_data'):\n",
    "    \n",
    "    '''\n",
    "        This function create a batch of training data\n",
    "    '''\n",
    "    \n",
    "    label = json.load(open(\"{}/{}.json\".format(data_path, ind)))   \n",
    "    if not batch_size:\n",
    "        batch_size = len(label)\n",
    "    label = label[:batch_size]\n",
    "    label = np.array(label).astype('float16').reshape((batch_size, 1))/30\n",
    "\n",
    "    image_batch = np.zeros((batch_size, im_size, im_size, channel)).astype('float16')   \n",
    "    for i in range(batch_size):\n",
    "        \n",
    "        im = Image.open(\"{}/{}/{}.png\".format(data_path, ind, i))\n",
    "        im = im.resize((im_size,im_size), Image.ANTIALIAS)\n",
    "        im = np.array(im)\n",
    "        image_batch[i] = preprocess(im).reshape((im_size, im_size, channel))\n",
    "            \n",
    "    return (image_batch, label)"
   ]
  },
  {
   "cell_type": "code",
   "execution_count": 14,
   "id": "b7e93849",
   "metadata": {},
   "outputs": [
    {
     "name": "stdout",
     "output_type": "stream",
     "text": [
      "0\n",
      "1\n",
      "2\n",
      "3\n",
      "4\n",
      "5\n",
      "6\n",
      "7\n",
      "8\n"
     ]
    }
   ],
   "source": [
    "x = [np.array([]) for i in range(9)]\n",
    "y = [np.array([]) for i in range(9)]\n",
    "\n",
    "for i in range(9):\n",
    "    print(i)\n",
    "    x[i], y[i] = load_data_batch(i, data_path = 'processed_data2')\n",
    "\n",
    "x = np.concatenate(x)\n",
    "y = np.concatenate(y)"
   ]
  },
  {
   "cell_type": "code",
   "execution_count": 13,
   "id": "32a1207f",
   "metadata": {},
   "outputs": [],
   "source": [
    "del(x, y)"
   ]
  },
  {
   "cell_type": "code",
   "execution_count": 8,
   "id": "f5a456cd",
   "metadata": {},
   "outputs": [],
   "source": [
    "x_val, y_val = load_data_batch(9, 1000)"
   ]
  },
  {
   "cell_type": "code",
   "execution_count": 9,
   "id": "17df8dc9",
   "metadata": {},
   "outputs": [
    {
     "data": {
      "text/plain": [
       "(74394, 100, 100, 3)"
      ]
     },
     "execution_count": 9,
     "metadata": {},
     "output_type": "execute_result"
    }
   ],
   "source": [
    "x.shape"
   ]
  },
  {
   "cell_type": "code",
   "execution_count": 10,
   "id": "fc20b85c",
   "metadata": {
    "scrolled": true
   },
   "outputs": [
    {
     "name": "stdout",
     "output_type": "stream",
     "text": [
      "Model: \"sequential\"\n",
      "_________________________________________________________________\n",
      "Layer (type)                 Output Shape              Param #   \n",
      "=================================================================\n",
      "conv2d (Conv2D)              (None, 50, 50, 50)        3800      \n",
      "_________________________________________________________________\n",
      "dropout (Dropout)            (None, 50, 50, 50)        0         \n",
      "_________________________________________________________________\n",
      "conv2d_1 (Conv2D)            (None, 50, 50, 100)       45100     \n",
      "_________________________________________________________________\n",
      "max_pooling2d (MaxPooling2D) (None, 25, 25, 100)       0         \n",
      "_________________________________________________________________\n",
      "conv2d_2 (Conv2D)            (None, 12, 12, 150)       135150    \n",
      "_________________________________________________________________\n",
      "dropout_1 (Dropout)          (None, 12, 12, 150)       0         \n",
      "_________________________________________________________________\n",
      "conv2d_3 (Conv2D)            (None, 5, 5, 200)         270200    \n",
      "_________________________________________________________________\n",
      "dropout_2 (Dropout)          (None, 5, 5, 200)         0         \n",
      "_________________________________________________________________\n",
      "flatten (Flatten)            (None, 5000)              0         \n",
      "_________________________________________________________________\n",
      "dense (Dense)                (None, 100)               500100    \n",
      "_________________________________________________________________\n",
      "dropout_3 (Dropout)          (None, 100)               0         \n",
      "_________________________________________________________________\n",
      "dense_1 (Dense)              (None, 200)               20200     \n",
      "_________________________________________________________________\n",
      "dropout_4 (Dropout)          (None, 200)               0         \n",
      "_________________________________________________________________\n",
      "dense_2 (Dense)              (None, 1)                 201       \n",
      "=================================================================\n",
      "Total params: 974,751\n",
      "Trainable params: 974,751\n",
      "Non-trainable params: 0\n",
      "_________________________________________________________________\n"
     ]
    }
   ],
   "source": [
    "model = keras.models.Sequential()\n",
    "\n",
    "model.add(Conv2D(50, kernel_size=5, padding='same', strides=2, activation='relu', input_shape=(100,100,3)))\n",
    "model.add(Dropout(0.3))\n",
    "#model.add(MaxPooling2D(pool_size=(2, 2), strides=2))\n",
    "\n",
    "#model.add(Conv2D(100, padding='same', kernel_size=3, strides=1, activation='relu'))\n",
    "model.add(Conv2D(100, padding='same', kernel_size=3, strides=1, activation='relu'))\n",
    "#model.add(Dropout(0.3))\n",
    "model.add(MaxPooling2D(pool_size=(2, 2), strides=2))\n",
    "\n",
    "model.add(Conv2D(150, kernel_size=3, strides=2, activation='relu'))\n",
    "model.add(Dropout(0.3))\n",
    "#model.add(MaxPooling2D(pool_size=(2, 2), strides=2))\n",
    "\n",
    "#model.add(Conv2D(200, kernel_size=3, strides=1, activation='relu'))\n",
    "model.add(Conv2D(200, kernel_size=3, strides=2, activation='relu'))\n",
    "#model.add(Conv2D(200, kernel_size=2, strides=2, activation='relu'))\n",
    "model.add(Dropout(0.3))\n",
    "\n",
    "#model.add(Conv2D(256, kernel_size=3, strides=1, activation='relu'))\n",
    "#model.add(Conv2D(256, kernel_size=2, strides=2, activation='relu'))\n",
    "#model.add(MaxPooling2D(pool_size=(2, 2), strides=2))\n",
    "\n",
    "model.add(Flatten())\n",
    "\n",
    "model.add(Dense(100, activation='relu'))\n",
    "model.add(Dropout(0.4))\n",
    "model.add(Dense(200, activation='relu'))\n",
    "model.add(Dropout(0.4))\n",
    "model.add(Dense(1, activation='linear'))\n",
    "\n",
    "model.summary()"
   ]
  },
  {
   "cell_type": "code",
   "execution_count": 17,
   "id": "91a8ecd0",
   "metadata": {},
   "outputs": [],
   "source": [
    "adam = keras.optimizers.Adam(learning_rate=.0001)\n",
    "model.compile(loss='mse',optimizer=adam, metrics=['mae'])"
   ]
  },
  {
   "cell_type": "code",
   "execution_count": 18,
   "id": "10a92bd3",
   "metadata": {
    "scrolled": false
   },
   "outputs": [
    {
     "name": "stdout",
     "output_type": "stream",
     "text": [
      "130/130 [==============================] - 75s 566ms/step - loss: 0.0649 - mae: 0.1707 - val_loss: 0.0617 - val_mae: 0.1620\n",
      "130/130 [==============================] - 73s 557ms/step - loss: 0.0663 - mae: 0.1714 - val_loss: 0.0611 - val_mae: 0.1538\n",
      "130/130 [==============================] - 72s 552ms/step - loss: 0.0645 - mae: 0.1701 - val_loss: 0.0590 - val_mae: 0.1535\n",
      "130/130 [==============================] - 76s 578ms/step - loss: 0.0649 - mae: 0.1694 - val_loss: 0.0595 - val_mae: 0.1557\n",
      "130/130 [==============================] - 74s 569ms/step - loss: 0.0643 - mae: 0.1683 - val_loss: 0.0623 - val_mae: 0.1563\n",
      "130/130 [==============================] - 73s 560ms/step - loss: 0.0656 - mae: 0.1688 - val_loss: 0.0582 - val_mae: 0.1494\n",
      "130/130 [==============================] - 73s 561ms/step - loss: 0.0653 - mae: 0.1686 - val_loss: 0.0584 - val_mae: 0.1506\n",
      "130/130 [==============================] - 75s 572ms/step - loss: 0.0604 - mae: 0.1641 - val_loss: 0.0604 - val_mae: 0.1506\n",
      "130/130 [==============================] - 74s 567ms/step - loss: 0.0626 - mae: 0.1664 - val_loss: 0.0611 - val_mae: 0.1518\n"
     ]
    }
   ],
   "source": [
    "for i in range(9):\n",
    "\n",
    "    model.fit(x[i*8266:(i+1)*8266], y[i*8266:(i+1)*8266], batch_size=64, epochs=1, validation_data=(x_val, y_val))"
   ]
  },
  {
   "cell_type": "code",
   "execution_count": 19,
   "id": "55b1608f",
   "metadata": {},
   "outputs": [
    {
     "name": "stdout",
     "output_type": "stream",
     "text": [
      "INFO:tensorflow:Assets written to: angle.model\\assets\n"
     ]
    }
   ],
   "source": [
    "model.save('angle.model')"
   ]
  },
  {
   "cell_type": "code",
   "execution_count": 29,
   "id": "d0545077",
   "metadata": {},
   "outputs": [
    {
     "data": {
      "text/plain": [
       "(100, 100, 3)"
      ]
     },
     "execution_count": 29,
     "metadata": {},
     "output_type": "execute_result"
    }
   ],
   "source": [
    "(x_val[102]+.5).shape"
   ]
  },
  {
   "cell_type": "code",
   "execution_count": 56,
   "id": "dfe35a52",
   "metadata": {},
   "outputs": [
    {
     "name": "stderr",
     "output_type": "stream",
     "text": [
      "Clipping input data to the valid range for imshow with RGB data ([0..1] for floats or [0..255] for integers).\n"
     ]
    },
    {
     "data": {
      "image/png": "[encoded data removed]",
      "text/plain": [
       "<Figure size 432x288 with 1 Axes>"
      ]
     },
     "metadata": {
      "needs_background": "light"
     },
     "output_type": "display_data"
    },
    {
     "data": {
      "text/plain": [
       "12.40725427865982"
      ]
     },
     "execution_count": 56,
     "metadata": {},
     "output_type": "execute_result"
    }
   ],
   "source": [
    "i = 0\n",
    "plt.imshow(x_val[i].astype('float64')+.5)\n",
    "plt.show()\n",
    "a = model.predict(x_val[i].reshape((1,100,100,3)))\n",
    "a[0][0]*30"
   ]
  },
  {
   "cell_type": "code",
   "execution_count": 54,
   "id": "ab0520d3",
   "metadata": {},
   "outputs": [
    {
     "data": {
      "text/plain": [
       "9.5361328125"
      ]
     },
     "execution_count": 54,
     "metadata": {},
     "output_type": "execute_result"
    }
   ],
   "source": [
    "y_val[i][0]*30"
   ]
  },
  {
   "cell_type": "code",
   "execution_count": 24,
   "id": "9a848341",
   "metadata": {},
   "outputs": [
    {
     "data": {
      "image/png": "[encoded data removed]",
      "text/plain": [
       "<Figure size 432x288 with 1 Axes>"
      ]
     },
     "metadata": {
      "needs_background": "light"
     },
     "output_type": "display_data"
    }
   ],
   "source": [
    "plt.imshow((x_val[3].astype('float64')), interpolation='nearest')\n",
    "plt.show()"
   ]
  },
  {
   "cell_type": "code",
   "execution_count": 57,
   "id": "a5e9d42e",
   "metadata": {},
   "outputs": [
    {
     "data": {
      "text/plain": [
       "-0.992"
      ]
     },
     "execution_count": 57,
     "metadata": {},
     "output_type": "execute_result"
    }
   ],
   "source": [
    "np.min(x_val[0])"
   ]
  },
  {
   "cell_type": "code",
   "execution_count": 6,
   "id": "b026ec1e",
   "metadata": {},
   "outputs": [],
   "source": [
    "\n",
    "\n",
    "root_dir = 'raw_data'\n",
    "\n",
    "\n",
    "def center_crop(img, dim):\n",
    "    \"\"\"Returns center cropped image\n",
    "    Args:\n",
    "    img: image to be center cropped\n",
    "    dim: dimensions (width, height) to be cropped\n",
    "    \"\"\"\n",
    "    width, height = img.shape[1], img.shape[0]\n",
    "\n",
    "    # process crop width and height for max available dimension\n",
    "    crop_width = dim[0] if dim[0]<img.shape[1] else img.shape[1]\n",
    "    crop_height = dim[1] if dim[1]<img.shape[0] else img.shape[0] \n",
    "    mid_x, mid_y = int(width/2), int(height/2)\n",
    "    cw2, ch2 = int(crop_width/2), int(crop_height/2) \n",
    "    crop_img = img[mid_y-ch2:mid_y+ch2, mid_x-cw2:mid_x+cw2]\n",
    "    return crop_img\n",
    "\n",
    "\n",
    "def get_random_angle():\n",
    "    x = (random.rand()-0.5)*60\n",
    "    return x\n",
    "\n",
    "\n",
    "def rotate(image, angle):\n",
    "    rotated = imutils.rotate_bound(image, angle)\n",
    "    return rotated\n",
    "\n",
    "\n",
    "def resize(image, shape, interpolation = cv2.INTER_CUBIC):\n",
    "    resized = cv2.resize(image, (shape,shape))\n",
    "    return resized\n",
    "\n",
    "\n",
    "def process_imgs(i, out_dir):\n",
    "\n",
    "    print(\"processoing folder: {}\\n\".format(i))\n",
    "    inp_dir = \"{}/{}\".format(root_dir, i)\n",
    "    out_dir = '{}/{}'.format(out_dir, i)\n",
    "    os.system(\"mkdir -p {}\".format(out_dir))\n",
    "    ind = 0\n",
    "    label = []\n",
    "    final_shape = 100\n",
    "    for folder in os.listdir(inp_dir):\n",
    "        for img in os.listdir(\"{}/{}\".format(inp_dir, folder)):\n",
    "            image = cv2.imread(\"{}/{}/{}\".format(inp_dir, folder, img))\n",
    "            min_length = min(image.shape[0], image.shape[1])\n",
    "            crop = center_crop(image, (min_length, min_length))\n",
    "            angle = get_random_angle()\n",
    "            rotated = rotate(crop, angle)\n",
    "            rot_size = rotated.shape[0]\n",
    "            deg_angle = abs((np.pi/180)*angle)\n",
    "            crop_size = int(rot_size/(1+2*(np.sin(deg_angle))*(np.cos(deg_angle))))\n",
    "            #plt.imshow((rotated))\n",
    "            #plt.show()\n",
    "            crop2 = center_crop(rotated, (crop_size, crop_size))\n",
    "            #plt.imshow((crop2))\n",
    "            #plt.show()\n",
    "            resized = resize(crop2, final_shape)\n",
    "            #plt.imshow((resized))\n",
    "            #plt.show()\n",
    "            label.append(angle)\n",
    "            cv2.imwrite(\"{}/{}.png\".format(out_dir, ind), resized)\n",
    "            ind = ind+1\n",
    "            if ind%1000==0:\n",
    "                print(\"{} images done\".format(ind))\n",
    "\n",
    "    label = [round(i, 2) for i in label]\n",
    "    json.dump(label, open(\"{}.json\".format(out_dir), 'w'))"
   ]
  },
  {
   "cell_type": "code",
   "execution_count": 7,
   "id": "ace3d1d0",
   "metadata": {
    "scrolled": true
   },
   "outputs": [
    {
     "name": "stdout",
     "output_type": "stream",
     "text": [
      "processoing folder: 0\n",
      "\n",
      "1000 images done\n",
      "2000 images done\n",
      "3000 images done\n",
      "4000 images done\n",
      "5000 images done\n",
      "6000 images done\n",
      "7000 images done\n",
      "8000 images done\n",
      "processoing folder: 1\n",
      "\n",
      "1000 images done\n",
      "2000 images done\n",
      "3000 images done\n",
      "4000 images done\n",
      "5000 images done\n",
      "6000 images done\n",
      "7000 images done\n",
      "8000 images done\n",
      "processoing folder: 2\n",
      "\n",
      "1000 images done\n",
      "2000 images done\n",
      "3000 images done\n",
      "4000 images done\n",
      "5000 images done\n",
      "6000 images done\n",
      "7000 images done\n",
      "8000 images done\n",
      "processoing folder: 3\n",
      "\n",
      "1000 images done\n",
      "2000 images done\n",
      "3000 images done\n",
      "4000 images done\n",
      "5000 images done\n",
      "6000 images done\n",
      "7000 images done\n",
      "8000 images done\n",
      "processoing folder: 4\n",
      "\n",
      "1000 images done\n",
      "2000 images done\n",
      "3000 images done\n",
      "4000 images done\n",
      "5000 images done\n",
      "6000 images done\n",
      "7000 images done\n",
      "8000 images done\n",
      "processoing folder: 5\n",
      "\n",
      "1000 images done\n",
      "2000 images done\n",
      "3000 images done\n",
      "4000 images done\n",
      "5000 images done\n",
      "6000 images done\n",
      "7000 images done\n",
      "8000 images done\n",
      "processoing folder: 6\n",
      "\n",
      "1000 images done\n",
      "2000 images done\n",
      "3000 images done\n",
      "4000 images done\n",
      "5000 images done\n",
      "6000 images done\n",
      "7000 images done\n",
      "8000 images done\n",
      "processoing folder: 7\n",
      "\n",
      "1000 images done\n",
      "2000 images done\n",
      "3000 images done\n",
      "4000 images done\n",
      "5000 images done\n",
      "6000 images done\n",
      "7000 images done\n",
      "8000 images done\n",
      "processoing folder: 8\n",
      "\n",
      "1000 images done\n",
      "2000 images done\n",
      "3000 images done\n",
      "4000 images done\n",
      "5000 images done\n",
      "6000 images done\n",
      "7000 images done\n",
      "8000 images done\n",
      "processoing folder: 9\n",
      "\n",
      "1000 images done\n",
      "2000 images done\n",
      "3000 images done\n",
      "4000 images done\n",
      "5000 images done\n",
      "6000 images done\n",
      "7000 images done\n",
      "8000 images done\n",
      "processoing folder: 0\n",
      "\n",
      "1000 images done\n",
      "2000 images done\n",
      "3000 images done\n",
      "4000 images done\n",
      "5000 images done\n",
      "6000 images done\n",
      "7000 images done\n",
      "8000 images done\n",
      "processoing folder: 1\n",
      "\n",
      "1000 images done\n",
      "2000 images done\n",
      "3000 images done\n",
      "4000 images done\n",
      "5000 images done\n",
      "6000 images done\n",
      "7000 images done\n",
      "8000 images done\n",
      "processoing folder: 2\n",
      "\n",
      "1000 images done\n",
      "2000 images done\n",
      "3000 images done\n",
      "4000 images done\n",
      "5000 images done\n",
      "6000 images done\n",
      "7000 images done\n",
      "8000 images done\n",
      "processoing folder: 3\n",
      "\n",
      "1000 images done\n",
      "2000 images done\n",
      "3000 images done\n",
      "4000 images done\n",
      "5000 images done\n",
      "6000 images done\n",
      "7000 images done\n",
      "8000 images done\n",
      "processoing folder: 4\n",
      "\n",
      "1000 images done\n",
      "2000 images done\n",
      "3000 images done\n",
      "4000 images done\n",
      "5000 images done\n",
      "6000 images done\n",
      "7000 images done\n",
      "8000 images done\n",
      "processoing folder: 5\n",
      "\n",
      "1000 images done\n",
      "2000 images done\n",
      "3000 images done\n",
      "4000 images done\n",
      "5000 images done\n",
      "6000 images done\n",
      "7000 images done\n",
      "8000 images done\n",
      "processoing folder: 6\n",
      "\n",
      "1000 images done\n",
      "2000 images done\n",
      "3000 images done\n",
      "4000 images done\n",
      "5000 images done\n",
      "6000 images done\n",
      "7000 images done\n",
      "8000 images done\n",
      "processoing folder: 7\n",
      "\n",
      "1000 images done\n",
      "2000 images done\n",
      "3000 images done\n",
      "4000 images done\n",
      "5000 images done\n",
      "6000 images done\n",
      "7000 images done\n",
      "8000 images done\n",
      "processoing folder: 8\n",
      "\n",
      "1000 images done\n",
      "2000 images done\n",
      "3000 images done\n",
      "4000 images done\n",
      "5000 images done\n",
      "6000 images done\n",
      "7000 images done\n",
      "8000 images done\n",
      "processoing folder: 9\n",
      "\n",
      "1000 images done\n",
      "2000 images done\n",
      "3000 images done\n",
      "4000 images done\n",
      "5000 images done\n",
      "6000 images done\n",
      "7000 images done\n",
      "8000 images done\n"
     ]
    }
   ],
   "source": [
    "for d in ['processed_data', 'processed_data2']:\n",
    "    for i in range(10):\n",
    "        process_imgs(i, d)"
   ]
  },
  {
   "cell_type": "code",
   "execution_count": null,
   "id": "b3ebebe4",
   "metadata": {},
   "outputs": [],
   "source": []
  }
 ],
 "metadata": {
  "kernelspec": {
   "display_name": "Python 3",
   "language": "python",
   "name": "python3"
  },
  "language_info": {
   "codemirror_mode": {
    "name": "ipython",
    "version": 3
   },
   "file_extension": ".py",
   "mimetype": "text/x-python",
   "name": "python",
   "nbconvert_exporter": "python",
   "pygments_lexer": "ipython3",
   "version": "3.8.8"
  }
 },
 "nbformat": 4,
 "nbformat_minor": 5
}
